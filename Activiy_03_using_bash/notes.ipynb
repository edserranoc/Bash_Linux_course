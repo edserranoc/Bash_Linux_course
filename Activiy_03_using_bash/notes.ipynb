{
 "cells": [
  {
   "cell_type": "markdown",
   "metadata": {},
   "source": [
    "What are shell config files?\n",
    "\n",
    "Configuring bash.rc\n",
    "\n",
    "Configuring .zshrc and third-party tool oh-my-zsh"
   ]
  },
  {
   "cell_type": "markdown",
   "metadata": {},
   "source": []
  }
 ],
 "metadata": {
  "language_info": {
   "name": "python"
  }
 },
 "nbformat": 4,
 "nbformat_minor": 2
}
