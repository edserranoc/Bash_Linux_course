{
 "cells": [
  {
   "cell_type": "markdown",
   "metadata": {},
   "source": [
    "<hr>\n",
    "<div style=\"background-color: lightgray; padding: 20px; color: black;\">\n",
    "<div>\n",
    "<img src=\"https://upload.wikimedia.org/wikipedia/commons/thumb/9/97/Coursera-Logo_600x600.svg/1024px-Coursera-Logo_600x600.svg.png\" style=\"float: right; margin-right: 30px;\" width=\"120\"/> \n",
    "<font size=\"6.5\" color=\"#0056D2\"><b>Introduction to Bash Scripts Bash </b></font> <br>\n",
    "<font size=\"5.5\" color=\"#0056D2\"><b>Linux and Bash for Data Engineering </b></font> \n",
    "</div>\n",
    "<div style=\"text-align: left\">  <br>\n",
    "Edison David Serrano Cárdenas. <br>\n",
    "MSc en Matemáticas Aplicadas <br>\n",
    "CIMAT - Sede Guanajuato <br>\n",
    "</div>\n",
    "\n",
    "</div>\n",
    "<hr>\n"
   ]
  },
  {
   "cell_type": "markdown",
   "metadata": {},
   "source": [
    "##  <font color=\"#0056D2\" >**Objetives**</font> "
   ]
  },
  {
   "cell_type": "markdown",
   "metadata": {},
   "source": [
    "> Shall logic and contol flow to manipulate data\n",
    ">\n",
    "> - What is shell control flow?\n",
    "> - Using Shell Control FLow to solve problems\n",
    "> - Using Shell Loops"
   ]
  },
  {
   "cell_type": "markdown",
   "metadata": {},
   "source": [
    "## <font color=\"#0056D2\" >**Shell ControlFlow**</font> "
   ]
  },
  {
   "cell_type": "markdown",
   "metadata": {},
   "source": [
    "<font color=\"#0056D2\" >**Key Ideas**</font> "
   ]
  },
  {
   "cell_type": "markdown",
   "metadata": {},
   "source": [
    "- Control flow allows you to control the order of execution in bash scripts using conditionals and loops.\n",
    "- Conditionals like if-else statements let you check conditions and run different code blocks.\n",
    "- Loops allow you to repeat sections of code, like for loops that iterate over a set of items."
   ]
  },
  {
   "cell_type": "markdown",
   "metadata": {},
   "source": [
    "<font color=\"#0056D2\" >**Using Shell Conditionals in Bash**</font> \n"
   ]
  },
  {
   "cell_type": "markdown",
   "metadata": {},
   "source": [
    "if: *if-else.sh*"
   ]
  },
  {
   "cell_type": "markdown",
   "metadata": {},
   "source": [
    "> ```console\n",
    "> [cloudshell-user@... ]$ ./if-else.sh \n",
    "> What food do you choose? \n",
    "> Apple\n",
    "> Eat Yogurt with your Apple\n",
    "> [cloudshell-user@... ]$ ./if-else.sh \n",
    "> What food do you choose? \n",
    "> Aguapanela\n",
    "> Eat your Aguapanela by itself!```\n"
   ]
  },
  {
   "cell_type": "markdown",
   "metadata": {},
   "source": [
    "<font color=\"#0056D2\" >**Using Shell Loops in Bash**</font> \n",
    "\n"
   ]
  },
  {
   "cell_type": "markdown",
   "metadata": {},
   "source": [
    "for: loopy.sh"
   ]
  },
  {
   "cell_type": "markdown",
   "metadata": {},
   "source": [
    ">```console\n",
    "> [cloudshell-user@... ]$ ./loopy.sh\n",
    "> This apple is delicious!\n",
    "> This pear is delicious!\n",
    "> This cherry is delicious!\n",
    "> ```"
   ]
  },
  {
   "cell_type": "markdown",
   "metadata": {},
   "source": [
    "while: add-loop.sh"
   ]
  },
  {
   "cell_type": "markdown",
   "metadata": {},
   "source": [
    ">```console\n",
    "> [cloudshell-user@... ]$ ./add-loop.sh \n",
    "> How Many Loops Do You Want?\n",
    "> 5\n",
    "> Loop# 1 \n",
    "> Loop# 2 \n",
    "> Loop# 3 \n",
    "> Loop# 4 \n",
    "> Loop# 5 \n",
    "> ```\n",
    "\n",
    "\n"
   ]
  },
  {
   "cell_type": "markdown",
   "metadata": {},
   "source": [
    "<font color=\"#0056D2\" >**Evaluating Conditions in Bash**</font> "
   ]
  },
  {
   "cell_type": "markdown",
   "metadata": {},
   "source": [
    "and: `add.sh`"
   ]
  },
  {
   "cell_type": "markdown",
   "metadata": {},
   "source": [
    ">```console\n",
    "> [cloudshell-user@... ]$ ./add.sh\n",
    "> 3\n",
    "> ```\n",
    "\n",
    "\n"
   ]
  },
  {
   "cell_type": "markdown",
   "metadata": {},
   "source": [
    "and: `and-fail.sh` \n",
    "\n",
    "\n",
    ">```console\n",
    "> [cloudshell-user@... ]$ ls -l fake-file.txt &> /dev/null && echo \"worked\"\n",
    "> \n",
    "> [cloudshell-user@... ]$ true && echo \"This will work\"\n",
    "> This will work\n",
    "> ```\n"
   ]
  },
  {
   "cell_type": "markdown",
   "metadata": {},
   "source": [
    "or: `or.sh` \n",
    "\n",
    "\n",
    ">```console\n",
    "> [cloudshell-user@... ]$ false || echo “Run this instead\"\n",
    "> Run this instead\n",
    "> [cloudshell-user@... ]$ echo \"Run this but not that\" || echo \"This won't run\"\n",
    "> Run this but not that\n",
    "> ```\n"
   ]
  },
  {
   "cell_type": "markdown",
   "metadata": {},
   "source": [
    "## <font color=\"#0056D2\" >**Manipulating Data with the Shell**</font> "
   ]
  },
  {
   "cell_type": "markdown",
   "metadata": {},
   "source": [
    " <font color=\"#0056D2\" >**Objetives**</font> \n",
    "- What are shell techniques for data?\n",
    "- Truncating, searching and filtering data\n",
    "- Data processing in the shell"
   ]
  },
  {
   "cell_type": "markdown",
   "metadata": {},
   "source": [
    " <font color=\"#0056D2\" >**Key Points**</font> \n",
    "\n",
    "- head and tail allow truncating big files to view top/bottom lines\n",
    "- grep can filter text files to lines matching a pattern\n",
    "- Finding files with find searches filesystems recursively\n",
    "- Pipes and redirection chain together commands"
   ]
  },
  {
   "cell_type": "markdown",
   "metadata": {},
   "source": [
    "<font color=\"#0056D2\" >**Key Terms**</font> "
   ]
  },
  {
   "cell_type": "markdown",
   "metadata": {},
   "source": [
    "**Truncate** - Reduce the size of a file using commands like head and tail"
   ]
  },
  {
   "cell_type": "markdown",
   "metadata": {},
   "source": [
    "> \\# Truncate - Get first 5 lines  <br>\n",
    "> head -n 5 file.txt <br>\n",
    "> \\# Truncate - Get last line <br>\n",
    "> tail -n 1 file.txt   <br>\n",
    "> \\# Suffle  - Get 3 random lines<br>\n",
    "> shuf -n 3 file.txt <br>\n",
    "> shuf -n 3 file.txt > small-file.txt<br>\n",
    "\n"
   ]
  },
  {
   "cell_type": "markdown",
   "metadata": {},
   "source": [
    "**Filter** - Search for patterns in a file using grep"
   ]
  },
  {
   "cell_type": "markdown",
   "metadata": {},
   "source": [
    ">\\# Filter - Get lines with \"error\"  <br>\n",
    ">grep \"error\" file.log"
   ]
  },
  {
   "cell_type": "markdown",
   "metadata": {},
   "source": [
    "**Cut** - Extract columns from a file\n",
    "\n",
    ">\\# Cut - Get 2nd column from file <br>\n",
    ">cut -f2 file.csv  <br>"
   ]
  },
  {
   "cell_type": "markdown",
   "metadata": {},
   "source": [
    "**Find** - Search for files/directories recursively"
   ]
  },
  {
   "cell_type": "markdown",
   "metadata": {},
   "source": [
    "> \\# Find - Find files named \"data.csv\"<br>\n",
    "> find . -name \"data.csv\"<br>"
   ]
  },
  {
   "cell_type": "markdown",
   "metadata": {},
   "source": [
    "**Locate** - Quickly search an index of files rather than the actual filesystem\n",
    "\n",
    ">\\# Locate - Find files containing \"stats\" <br>\n",
    ">locate \"*stats*\" <br>"
   ]
  },
  {
   "cell_type": "markdown",
   "metadata": {},
   "source": [
    "<font color=\"#0056D2\" >**Grep Command**</font> "
   ]
  },
  {
   "cell_type": "markdown",
   "metadata": {},
   "source": [
    ">\\# Find pattern  <br>\n",
    "> grep apple filter-file.txt      <br>\n",
    "\n",
    ">\\# Count occurrences       <br>\n",
    "> grep -c apple filter-file.txt        <br>\n",
    "\n",
    ">\\# Find either pattern     <br>\n",
    "> grep -e apple -e pear filter-file.txt     <br>\n",
    "\n",
    ">\\# Count occurrences of both patterns      <br>\n",
    "> grep -c -e apple -e pear filter-file.txt      <br>\n",
    "\n",
    "> \\# Show all lines that DO NOT contain pattern  <br>\n",
    "> grep--v- apple: filter-file. txt  <br>"
   ]
  },
  {
   "cell_type": "markdown",
   "metadata": {},
   "source": [
    "<font color=\"#0056D2\" >**Find files**</font> "
   ]
  },
  {
   "cell_type": "markdown",
   "metadata": {},
   "source": [
    "\n",
    ">   \\# Find all bash scripts <br>\n",
    ">   find . -name \"*.sh\" <br>\n",
    " \n",
    ">   \\# Find all CSV files <br>\n",
    ">   find . -name \"*.csv\" <br>\n",
    " \n",
    ">   \\# Find all executable non-invisible <br>\n",
    ">   find . -perm /+x ! -name '.*' -type f <br>\n",
    " \n",
    ">   \\# Find all executable non-invisible files and ignore .git directories\n",
    ">   find . -perm /+x -not -path '*/\\\\.*' -type f\n"
   ]
  },
  {
   "cell_type": "markdown",
   "metadata": {},
   "source": [
    "## <font color=\"#0056D2\" >**Introduction to Writing Scripts and Command-Line Tools in Bash**</font> "
   ]
  },
  {
   "cell_type": "markdown",
   "metadata": {},
   "source": [
    "<font color=\"#0056D2\" >**Objetives**</font> "
   ]
  },
  {
   "cell_type": "markdown",
   "metadata": {},
   "source": [
    "- What are shell scripts and command-line tools?\n",
    "- Building a Bash Script\n",
    "- Building a Bash command-line tool\n",
    "\n"
   ]
  },
  {
   "cell_type": "markdown",
   "metadata": {},
   "source": [
    "<font color=\"#0056D2\" >**Building a Bash Script**</font> \n",
    "\n"
   ]
  },
  {
   "cell_type": "markdown",
   "metadata": {},
   "source": [
    "***Core components:***\n",
    "\n",
    "* shebang line\n",
    "* debug modes\n",
    "* statements-and-variables"
   ]
  },
  {
   "cell_type": "markdown",
   "metadata": {},
   "source": []
  }
 ],
 "metadata": {
  "kernelspec": {
   "display_name": "Python 3",
   "language": "python",
   "name": "python3"
  },
  "language_info": {
   "codemirror_mode": {
    "name": "ipython",
    "version": 3
   },
   "file_extension": ".py",
   "mimetype": "text/x-python",
   "name": "python",
   "nbconvert_exporter": "python",
   "pygments_lexer": "ipython3",
   "version": "3.12.1"
  }
 },
 "nbformat": 4,
 "nbformat_minor": 2
}
