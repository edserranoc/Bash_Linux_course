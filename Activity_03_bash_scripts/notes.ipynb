{
 "cells": [
  {
   "cell_type": "markdown",
   "metadata": {},
   "source": [
    "<hr>\n",
    "<div style=\"background-color: lightgray; padding: 20px; color: black;\">\n",
    "<div>\n",
    "<img src=\"https://upload.wikimedia.org/wikipedia/commons/thumb/9/97/Coursera-Logo_600x600.svg/1024px-Coursera-Logo_600x600.svg.png\" style=\"float: right; margin-right: 30px;\" width=\"120\"/> \n",
    "<font size=\"6.5\" color=\"#0056D2\"><b>Introduction to Bash Scripts Bash </b></font> <br>\n",
    "<font size=\"5.5\" color=\"#0056D2\"><b>Linux and Bash for Data Engineering </b></font> \n",
    "</div>\n",
    "<div style=\"text-align: left\">  <br>\n",
    "Edison David Serrano Cárdenas. <br>\n",
    "MSc en Matemáticas Aplicadas <br>\n",
    "CIMAT - Sede Guanajuato <br>\n",
    "</div>\n",
    "\n",
    "</div>\n",
    "<hr>\n"
   ]
  },
  {
   "cell_type": "markdown",
   "metadata": {},
   "source": [
    "##  <font color=\"#0056D2\" >**Objetives**</font> "
   ]
  },
  {
   "cell_type": "markdown",
   "metadata": {},
   "source": [
    "> Shall logic and contol flow to manipulate data\n",
    ">\n",
    "> - What is shell control flow?\n",
    "> - Using Shell Control FLow to solve problems\n",
    "> - Using Shell Loops"
   ]
  },
  {
   "cell_type": "markdown",
   "metadata": {},
   "source": [
    "## <font color=\"#0056D2\" >**Shell ControlFlow**</font> "
   ]
  },
  {
   "cell_type": "markdown",
   "metadata": {},
   "source": [
    "<font color=\"#0056D2\" >**Key Ideas**</font> "
   ]
  },
  {
   "cell_type": "markdown",
   "metadata": {},
   "source": [
    "- Control flow allows you to control the order of execution in bash scripts using conditionals and loops.\n",
    "- Conditionals like if-else statements let you check conditions and run different code blocks.\n",
    "- Loops allow you to repeat sections of code, like for loops that iterate over a set of items."
   ]
  },
  {
   "cell_type": "markdown",
   "metadata": {},
   "source": [
    "<font color=\"#0056D2\" >**Using Shell Conditionals in Bash**</font> \n"
   ]
  },
  {
   "cell_type": "markdown",
   "metadata": {},
   "source": [
    "if: *if-else.sh*"
   ]
  },
  {
   "cell_type": "markdown",
   "metadata": {},
   "source": [
    "> ```console\n",
    "> [cloudshell-user@... ]$ ./if-else.sh \n",
    "> What food do you choose? \n",
    "> Apple\n",
    "> Eat Yogurt with your Apple\n",
    "> [cloudshell-user@... ]$ ./if-else.sh \n",
    "> What food do you choose? \n",
    "> Aguapanela\n",
    "> Eat your Aguapanela by itself!```\n"
   ]
  },
  {
   "cell_type": "markdown",
   "metadata": {},
   "source": [
    "<font color=\"#0056D2\" >**Using Shell Loops in Bash**</font> \n",
    "\n"
   ]
  },
  {
   "cell_type": "markdown",
   "metadata": {},
   "source": [
    "for: loopy.sh"
   ]
  },
  {
   "cell_type": "markdown",
   "metadata": {},
   "source": [
    ">```console\n",
    "> [cloudshell-user@... ]$ ./loopy.sh\n",
    "> This apple is delicious!\n",
    "> This pear is delicious!\n",
    "> This cherry is delicious!\n",
    "> ```"
   ]
  },
  {
   "cell_type": "markdown",
   "metadata": {},
   "source": [
    "while: add-loop.sh"
   ]
  },
  {
   "cell_type": "markdown",
   "metadata": {},
   "source": [
    ">```console\n",
    "> [cloudshell-user@... ]$ ./add-loop.sh \n",
    "> How Many Loops Do You Want?\n",
    "> 5\n",
    "> Loop# 1 \n",
    "> Loop# 2 \n",
    "> Loop# 3 \n",
    "> Loop# 4 \n",
    "> Loop# 5 \n",
    "> ```\n",
    "\n",
    "\n"
   ]
  },
  {
   "cell_type": "markdown",
   "metadata": {},
   "source": [
    "<font color=\"#0056D2\" >**Evaluating Conditions in Bash**</font> "
   ]
  },
  {
   "cell_type": "markdown",
   "metadata": {},
   "source": [
    "and: `add.sh`"
   ]
  },
  {
   "cell_type": "markdown",
   "metadata": {},
   "source": [
    ">```console\n",
    "> [cloudshell-user@... ]$ ./add.sh\n",
    "> 3\n",
    "> ```\n",
    "\n",
    "\n"
   ]
  },
  {
   "cell_type": "markdown",
   "metadata": {},
   "source": [
    "and: `and-fail.sh` \n",
    "\n",
    "\n",
    ">```console\n",
    "> [cloudshell-user@... ]$ ls -l fake-file.txt &> /dev/null && echo \"worked\"\n",
    "> \n",
    "> [cloudshell-user@... ]$ true && echo \"This will work\"\n",
    "> This will work\n",
    "> ```\n"
   ]
  },
  {
   "cell_type": "markdown",
   "metadata": {},
   "source": [
    "or: `or.sh` \n",
    "\n",
    "\n",
    ">```console\n",
    "> [cloudshell-user@... ]$ false || echo “Run this instead\"\n",
    "> Run this instead\n",
    "> [cloudshell-user@... ]$ echo \"Run this but not that\" || echo \"This won't run\"\n",
    "> Run this but not that\n",
    "> ```\n"
   ]
  },
  {
   "cell_type": "markdown",
   "metadata": {},
   "source": [
    "## <font color=\"#0056D2\" >**Manipulating Data with the Shell**</font> "
   ]
  },
  {
   "cell_type": "markdown",
   "metadata": {},
   "source": [
    " <font color=\"#0056D2\" >**Objetives**</font> \n",
    "- What are shell techniques for data?\n",
    "- Truncating, searching and filtering data\n",
    "- Data processing in the shell"
   ]
  },
  {
   "cell_type": "markdown",
   "metadata": {},
   "source": [
    " <font color=\"#0056D2\" >**Key Points**</font> \n",
    "\n",
    "- head and tail allow truncating big files to view top/bottom lines\n",
    "- grep can filter text files to lines matching a pattern\n",
    "- Finding files with find searches filesystems recursively\n",
    "- Pipes and redirection chain together commands"
   ]
  },
  {
   "cell_type": "markdown",
   "metadata": {},
   "source": [
    "<font color=\"#0056D2\" >**Key Terms**</font> "
   ]
  },
  {
   "cell_type": "markdown",
   "metadata": {},
   "source": [
    "**Truncate** - Reduce the size of a file using commands like head and tail"
   ]
  },
  {
   "cell_type": "markdown",
   "metadata": {},
   "source": [
    "> \\# Truncate - Get first 5 lines  <br>\n",
    "> head -n 5 file.txt <br>\n",
    "> \\# Truncate - Get last line <br>\n",
    "> tail -n 1 file.txt   <br>\n",
    "> \\# Suffle  - Get 3 random lines<br>\n",
    "> shuf -n 3 file.txt <br>\n",
    "> shuf -n 3 file.txt > small-file.txt<br>\n",
    "\n"
   ]
  },
  {
   "cell_type": "markdown",
   "metadata": {},
   "source": [
    "**Filter** - Search for patterns in a file using grep"
   ]
  },
  {
   "cell_type": "markdown",
   "metadata": {},
   "source": [
    ">\\# Filter - Get lines with \"error\"  <br>\n",
    ">grep \"error\" file.log"
   ]
  },
  {
   "cell_type": "markdown",
   "metadata": {},
   "source": [
    "**Cut** - Extract columns from a file\n",
    "\n",
    ">\\# Cut - Get 2nd column from file <br>\n",
    ">cut -f2 file.csv  <br>"
   ]
  },
  {
   "cell_type": "markdown",
   "metadata": {},
   "source": [
    "**Find** - Search for files/directories recursively"
   ]
  },
  {
   "cell_type": "markdown",
   "metadata": {},
   "source": [
    "> \\# Find - Find files named \"data.csv\"<br>\n",
    "> find . -name \"data.csv\"<br>"
   ]
  },
  {
   "cell_type": "markdown",
   "metadata": {},
   "source": [
    "**Locate** - Quickly search an index of files rather than the actual filesystem\n",
    "\n",
    ">\\# Locate - Find files containing \"stats\" <br>\n",
    ">locate \"*stats*\" <br>"
   ]
  },
  {
   "cell_type": "markdown",
   "metadata": {},
   "source": [
    "<font color=\"#0056D2\" >**Grep Command**</font> "
   ]
  },
  {
   "cell_type": "markdown",
   "metadata": {},
   "source": [
    ">\\# Find pattern  <br>\n",
    "> grep apple filter-file.txt      <br>\n",
    "\n",
    ">\\# Count occurrences       <br>\n",
    "> grep -c apple filter-file.txt        <br>\n",
    "\n",
    ">\\# Find either pattern     <br>\n",
    "> grep -e apple -e pear filter-file.txt     <br>\n",
    "\n",
    ">\\# Count occurrences of both patterns      <br>\n",
    "> grep -c -e apple -e pear filter-file.txt      <br>\n",
    "\n",
    "> \\# Show all lines that DO NOT contain pattern  <br>\n",
    "> grep--v- apple: filter-file. txt  <br>"
   ]
  },
  {
   "cell_type": "markdown",
   "metadata": {},
   "source": [
    "<font color=\"#0056D2\" >**Find files**</font> "
   ]
  },
  {
   "cell_type": "markdown",
   "metadata": {},
   "source": [
    "\n",
    ">   \\# Find all bash scripts <br>\n",
    ">   find . -name \"*.sh\" <br>\n",
    " \n",
    ">   \\# Find all CSV files <br>\n",
    ">   find . -name \"*.csv\" <br>\n",
    " \n",
    ">   \\# Find all executable non-invisible <br>\n",
    ">   find . -perm /+x ! -name '.*' -type f <br>\n",
    " \n",
    ">   \\# Find all executable non-invisible files and ignore .git directories\n",
    ">   find . -perm /+x -not -path '*/\\\\.*' -type f\n"
   ]
  },
  {
   "cell_type": "markdown",
   "metadata": {},
   "source": [
    "## <font color=\"#0056D2\" >**Introduction to Writing Scripts and Command-Line Tools in Bash**</font> "
   ]
  },
  {
   "cell_type": "markdown",
   "metadata": {},
   "source": [
    "The lesson provided an overview of key bash scripting concepts including statements, scripts, functions, command line interfaces (CLIs), arrays, and control flow. Statements make up the basic commands executed at the bash prompt while scripts allow automating workflows by sequencing statements. Functions modularize logic for reuse and CLIs process input to customize behavior. Arrays store ordered data and control flow like loops customize logic flow.\n"
   ]
  },
  {
   "cell_type": "markdown",
   "metadata": {},
   "source": [
    "<font color=\"#0056D2\" >**Objetives**</font> "
   ]
  },
  {
   "cell_type": "markdown",
   "metadata": {},
   "source": [
    "- What are shell scripts and command-line tools?\n",
    "- Building a Bash Script\n",
    "- Building a Bash command-line tool\n",
    "\n"
   ]
  },
  {
   "cell_type": "markdown",
   "metadata": {},
   "source": [
    "<font color=\"#0056D2\" >**Key Points**</font> \n",
    "\n",
    "- Statements form the core bash commands for exploration\n",
    "- Scripts automate workflows and processes\n",
    "- Functions allow reusable modular logic blocks\n",
    "- CLIs provide input control and flexibility\n",
    "- Arrays store ordered collections of data"
   ]
  },
  {
   "cell_type": "markdown",
   "metadata": {},
   "source": [
    "<font color=\"#0056D2\" >**Building a Bash Script**</font> \n",
    "\n"
   ]
  },
  {
   "cell_type": "markdown",
   "metadata": {},
   "source": [
    "***Core components:***\n",
    "\n",
    "* shebang line\n",
    "* debug modes\n",
    "* statements-and-variables"
   ]
  },
  {
   "cell_type": "markdown",
   "metadata": {},
   "source": [
    "***Example:***"
   ]
  },
  {
   "cell_type": "markdown",
   "metadata": {},
   "source": [
    "```bash\n",
    "#!/usr/bin/env bash \n",
    "\n",
    "# Set strict mode. Causes shell to exit when a command fails\n",
    "set -e\n",
    "\n",
    "# Enables printing of shell input lines as they are read\n",
    "set -v\n",
    "\n",
    "#-Enables print of command traces before executing command\n",
    "set -x\n",
    "\n",
    "# Set-a-variable\n",
    "\n",
    "variable=\"one\"\n",
    "\n",
    "echo \"This is a script with a variable: $variable\"\n",
    "```"
   ]
  },
  {
   "cell_type": "markdown",
   "metadata": {},
   "source": [
    "<font color=\"#0056D2\" >**Building a Bash Function**</font> \n",
    "\n"
   ]
  },
  {
   "cell_type": "markdown",
   "metadata": {},
   "source": [
    "```bash\n",
    "add() {\n",
    "    num1=$1\n",
    "    num2=$2\n",
    "    result=$((num1 + num2))\n",
    "    echo $result\n",
    "}\n",
    "add 1 2\n",
    "\n",
    "output=$(add 5 9)\n",
    "echo $output\n",
    "```"
   ]
  },
  {
   "cell_type": "markdown",
   "metadata": {},
   "source": [
    "```console\n",
    "[cloudshell-user@... ]$ ./bash-functions.sh\n",
    "First Parameter: 1\n",
    "Second Parameter: 2\n",
    "First Parameter: 99\n",
    "Second Parameter: 100\n",
    "3\n",
    "14\n",
    "```"
   ]
  },
  {
   "cell_type": "markdown",
   "metadata": {},
   "source": [
    "<font color=\"#0056D2\" >**Building a Bash Command-Line Tool**</font> \n",
    "\n",
    "\n",
    "\n"
   ]
  },
  {
   "cell_type": "markdown",
   "metadata": {},
   "source": [
    "./cli.sh --count 5 --phrase \"hi\"\n",
    "\n",
    "A. Build Function <br>\n",
    "B. Parse input <br>\n",
    "C. Pass input to function <br>"
   ]
  },
  {
   "cell_type": "markdown",
   "metadata": {},
   "source": [
    "cli: `cli.sh`"
   ]
  },
  {
   "cell_type": "markdown",
   "metadata": {},
   "source": [
    "./cli.sh --count 2 --phrase \"I love coding\""
   ]
  },
  {
   "cell_type": "markdown",
   "metadata": {},
   "source": [
    "## <font color=\"#0056D2\" >**Bash-Adjacent Tools: Makefiles and Dockerfiles**</font> "
   ]
  },
  {
   "cell_type": "markdown",
   "metadata": {},
   "source": [
    "**Makefile:**\n",
    "- Automates\n",
    "- Recipe\n",
    "- Bash like\n",
    "\n",
    "**DockerFile:**\n",
    "- Automates\n",
    "- Containers\n",
    "- Format"
   ]
  },
  {
   "cell_type": "markdown",
   "metadata": {},
   "source": [
    "<font color=\"#0056D2\" >**Makefiles**</font> "
   ]
  },
  {
   "cell_type": "markdown",
   "metadata": {},
   "source": [
    "Basic formula:\n",
    "\n",
    "> target :<br>\n",
    ">       recipe\n"
   ]
  },
  {
   "cell_type": "markdown",
   "metadata": {},
   "source": [
    "*Example:*"
   ]
  },
  {
   "cell_type": "markdown",
   "metadata": {},
   "source": [
    "```makefile\n",
    "hello:\n",
    "\techo \"This is a recipe called hello\"\n",
    "\n",
    "goodbye:\n",
    "\techo \"This is a recipe called goodbye\"\n",
    "\n",
    "all: hello goodbye\n",
    "```"
   ]
  },
  {
   "cell_type": "markdown",
   "metadata": {},
   "source": [
    "*Console:*\n",
    "\n",
    "```console \n",
    "[cloudshell-user@... ]$ make hello\n",
    "echo \"This is a recipe called hello\"\n",
    "This is a recipe called hello\n",
    "```"
   ]
  },
  {
   "cell_type": "markdown",
   "metadata": {},
   "source": [
    "<font color=\"#0056D2\" >**Dockerfile**</font> "
   ]
  },
  {
   "cell_type": "markdown",
   "metadata": {},
   "source": [
    "*Example:*"
   ]
  },
  {
   "cell_type": "markdown",
   "metadata": {},
   "source": [
    "```dockerfile\n",
    "FROM python:3.10.1-bullseye\n",
    "\n",
    "RUN pip install --upgrade pip\\\n",
    "&& pip install pandas\\\n",
    "&& pip install ipython\n",
    "\n",
    "```"
   ]
  },
  {
   "cell_type": "markdown",
   "metadata": {},
   "source": [
    "```console\n",
    "[cloudshell-user@... ]$ docker build .\n",
    "[cloudshell-user@... ]$ docker image -ls\n",
    "[cloudshell-user@... ]$ docker run -it <IMAGE ID> bash\n",
    "\n",
    "root@a6c454e0cfa0:/# python\n",
    "Python 3.10.1 (main, Dec 21 2021, 09:01:08) [GCC 10.2.1 20210110] on linux\n",
    "Type \"help\", \"copyright\", \"credits\" or \"license\" for more information.\n",
    ">>> \n",
    ">>> exit()\n",
    "root@a6c454e0cfa0:/#\n",
    "```"
   ]
  },
  {
   "cell_type": "markdown",
   "metadata": {},
   "source": [
    "## <font color=\"#0056D2\" >**Data Structures in Bash**</font> "
   ]
  },
  {
   "cell_type": "markdown",
   "metadata": {},
   "source": [
    "Array is a list: sequence <br>\n",
    "(1 2 3)\n",
    "\n",
    "Hash is a dictionary: key ->value <br> is a new in Bash version 4.\n",
    "([one]=\"red\")"
   ]
  },
  {
   "cell_type": "markdown",
   "metadata": {},
   "source": [
    "<font color=\"#0056D2\" >**list/array**</font> "
   ]
  },
  {
   "cell_type": "markdown",
   "metadata": {},
   "source": [
    "*Example:*"
   ]
  },
  {
   "cell_type": "markdown",
   "metadata": {},
   "source": [
    "```bash\n",
    "#!/usr/bin/env bash\n",
    "\n",
    "#This is a bash list/arrary\n",
    "declare -a array=(\"apple\" \"pear\" \"cherry\")\n",
    "\n",
    "## now loop through the above array\n",
    "for i in \"${array[@]}\"\n",
    "do\n",
    "    echo \"This ${i} is delicious!\"\n",
    "done\n",
    "```"
   ]
  },
  {
   "cell_type": "markdown",
   "metadata": {},
   "source": [
    "*Console:*"
   ]
  },
  {
   "cell_type": "markdown",
   "metadata": {},
   "source": [
    "```console\n",
    "[cloudshell-user@... ]$ ./lists.sh \n",
    "This apple is delicious!\n",
    "This pear is delicious!\n",
    "This cherry is delicious!\n",
    "```"
   ]
  },
  {
   "cell_type": "markdown",
   "metadata": {},
   "source": [
    "<font color=\"#0056D2\" >**hashes/dictionaries**</font> "
   ]
  },
  {
   "cell_type": "markdown",
   "metadata": {},
   "source": [
    "*Example:*"
   ]
  },
  {
   "cell_type": "markdown",
   "metadata": {},
   "source": [
    "```bash\n",
    "#!/usr/bin/env bash\n",
    "# Requires Bash >=4.0\n",
    "\n",
    "declare -A mealhash=( [dinner]=\"steak\" [lunch]=\"salad\" [breakfast]=\"fruit\" )\n",
    "\n",
    "## now loop through the above hash\n",
    "for key in \"${!mealhash[@]}\"; do\n",
    "    echo \"For $key I like to eat: ${mealhash[$key] }\"\n",
    "done\n",
    "```"
   ]
  },
  {
   "cell_type": "markdown",
   "metadata": {},
   "source": [
    "*Console:*"
   ]
  },
  {
   "cell_type": "markdown",
   "metadata": {},
   "source": [
    "```console\n",
    "[cloudshell-user@... ]$  ./hashes.sh \n",
    "For breakfast I like to eat: fruit\n",
    "For dinner I like to eat: steak\n",
    "For lunch I like to eat: salad\n",
    "```"
   ]
  }
 ],
 "metadata": {
  "kernelspec": {
   "display_name": "Python 3",
   "language": "python",
   "name": "python3"
  },
  "language_info": {
   "codemirror_mode": {
    "name": "ipython",
    "version": 3
   },
   "file_extension": ".py",
   "mimetype": "text/x-python",
   "name": "python",
   "nbconvert_exporter": "python",
   "pygments_lexer": "ipython3",
   "version": "3.12.1"
  }
 },
 "nbformat": 4,
 "nbformat_minor": 2
}
