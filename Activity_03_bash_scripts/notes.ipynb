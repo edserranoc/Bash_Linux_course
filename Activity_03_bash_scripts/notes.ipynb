{
 "cells": [
  {
   "cell_type": "markdown",
   "metadata": {},
   "source": [
    "<hr>\n",
    "<div style=\"background-color: lightgray; padding: 20px; color: black;\">\n",
    "<div>\n",
    "<img src=\"https://upload.wikimedia.org/wikipedia/commons/thumb/9/97/Coursera-Logo_600x600.svg/1024px-Coursera-Logo_600x600.svg.png\" style=\"float: right; margin-right: 30px;\" width=\"120\"/> \n",
    "<font size=\"6.5\" color=\"#0056D2\"><b>Introduction to Bash Scripts Bash </b></font> <br>\n",
    "<font size=\"5.5\" color=\"#0056D2\"><b>Linux and Bash for Data Engineering </b></font> \n",
    "</div>\n",
    "<div style=\"text-align: left\">  <br>\n",
    "Edison David Serrano Cárdenas. <br>\n",
    "MSc en Matemáticas Aplicadas <br>\n",
    "CIMAT - Sede Guanajuato <br>\n",
    "</div>\n",
    "\n",
    "</div>\n",
    "<hr>\n"
   ]
  },
  {
   "cell_type": "markdown",
   "metadata": {},
   "source": [
    "##  <font color=\"#0056D2\" >**Objetives**</font> "
   ]
  },
  {
   "cell_type": "markdown",
   "metadata": {},
   "source": [
    "> Shall logic and contol flow to manipulate data\n",
    ">\n",
    "> - What is shell control flow?\n",
    "> - Using Shell Control FLow to solve problems\n",
    "> - Using Shell Loops"
   ]
  },
  {
   "cell_type": "markdown",
   "metadata": {},
   "source": [
    "<font color=\"#0056D2\" >**Key Ideas**</font> \n",
    "\n",
    "- Aliases act as shortcuts for long commands or paths\n",
    "- Source command loads external scripts into the current shell\n",
    "- Export sets environment variables accessible to child processes\n",
    "- Plugins add tab completion, new commands, etc in ZSH\n",
    "- Virtual environments isolate project dependencies"
   ]
  },
  {
   "cell_type": "markdown",
   "metadata": {},
   "source": [
    "## <font color=\"#0056D2\" >**Shell ControlFlow**</font> "
   ]
  },
  {
   "cell_type": "markdown",
   "metadata": {},
   "source": [
    "<font color=\"#0056D2\" >**Using Shell Conditionals in Bash**</font> \n"
   ]
  },
  {
   "cell_type": "markdown",
   "metadata": {},
   "source": [
    "if: *if-else.sh*"
   ]
  },
  {
   "cell_type": "markdown",
   "metadata": {},
   "source": [
    "> ```console\n",
    "> [cloudshell-user@... ]$ ./if-else.sh \n",
    "> What food do you choose? \n",
    "> Apple\n",
    "> Eat Yogurt with your Apple\n",
    "> [cloudshell-user@... ]$ ./if-else.sh \n",
    "> What food do you choose? \n",
    "> Aguapanela\n",
    "> Eat your Aguapanela by itself!```\n"
   ]
  },
  {
   "cell_type": "markdown",
   "metadata": {},
   "source": [
    "<font color=\"#0056D2\" >**Using Shell Loops in Bash**</font> \n",
    "\n"
   ]
  },
  {
   "cell_type": "markdown",
   "metadata": {},
   "source": [
    "for: loopy.sh"
   ]
  },
  {
   "cell_type": "markdown",
   "metadata": {},
   "source": [
    ">```console\n",
    "> [cloudshell-user@... ]$ ./loopy.sh\n",
    "> This apple is delicious!\n",
    "> This pear is delicious!\n",
    "> This cherry is delicious!\n",
    "> ```"
   ]
  },
  {
   "cell_type": "markdown",
   "metadata": {},
   "source": [
    "while: add-loop.sh"
   ]
  },
  {
   "cell_type": "markdown",
   "metadata": {},
   "source": [
    ">```console\n",
    "> [cloudshell-user@... ]$ ./add-loop.sh \n",
    "> How Many Loops Do You Want?\n",
    "> 5\n",
    "> Loop# 1 \n",
    "> Loop# 2 \n",
    "> Loop# 3 \n",
    "> Loop# 4 \n",
    "> Loop# 5 \n",
    "> ```\n",
    "\n",
    "\n"
   ]
  },
  {
   "cell_type": "markdown",
   "metadata": {},
   "source": [
    "<font color=\"#0056D2\" >**Evaluating Conditions in Bash**</font> "
   ]
  },
  {
   "cell_type": "markdown",
   "metadata": {},
   "source": [
    "and: `add.sh`"
   ]
  },
  {
   "cell_type": "markdown",
   "metadata": {},
   "source": [
    ">```console\n",
    "> [cloudshell-user@... ]$ ./add.sh\n",
    "> 3\n",
    "> ```\n",
    "\n",
    "\n"
   ]
  },
  {
   "cell_type": "markdown",
   "metadata": {},
   "source": [
    "**Activar Python Virtual Enviroments**"
   ]
  },
  {
   "cell_type": "markdown",
   "metadata": {},
   "source": [
    ">```console\n",
    "> [cloudshell-user@... ]$ python -m venv ~/.venv \n",
    "> [cloudshell-user@... ]$ vim ~/.bashrc\n",
    ">\n",
    "> # Sourcing Virtual ENV\n",
    "> echo \"I am sourcing a python venv\"\n",
    "> source ~/.venv/bin/activate\n",
    ">\n",
    "> (.venv) [cloudshell-user@... ]$ echo $SECRET_ONE\n",
    "> ```"
   ]
  },
  {
   "cell_type": "markdown",
   "metadata": {},
   "source": [
    "##  <font color=\"#0056D2\" >**Configuring .zshrc and Third-Party Tool oh-my-zsh**</font> \n"
   ]
  },
  {
   "cell_type": "markdown",
   "metadata": {},
   "source": [
    " Installation\n",
    "\n",
    ">```console\n",
    ">sudo apt update && sudo apt install zsh\n",
    ">chsh manz -s /bin/zsh\n",
    ">\n",
    ">sh -c \"$(curl -fsSL https://raw.githubusercontent.com/ohmyzsh/ohmyzsh/master/tools/install.sh)\"\n",
    ">\n",
    ">```\n"
   ]
  },
  {
   "cell_type": "markdown",
   "metadata": {},
   "source": [
    "plugins:\n",
    "\n",
    "- git,pip,python, dockers,aws"
   ]
  },
  {
   "cell_type": "markdown",
   "metadata": {},
   "source": [
    "Commands in OS 10\n",
    "\n",
    ">```console\n",
    "> [cloudshell-user@... ]$ mdfind *.txt\n",
    "> [cloudshell-user@... ]$ diskutil\n",
    ">```\n"
   ]
  },
  {
   "cell_type": "markdown",
   "metadata": {},
   "source": [
    "##  <font color=\"#0056D2\" >**Introduction to Working with Shell Variables**</font> \n"
   ]
  },
  {
   "cell_type": "markdown",
   "metadata": {},
   "source": [
    "It is a way of storing data that you use in another script or another process"
   ]
  },
  {
   "cell_type": "markdown",
   "metadata": {},
   "source": [
    "\n",
    ">```console\n",
    "> export FOOD = \"apple\" \n",
    "> [cloudshell-user@... ]$ echo $FOOD\n",
    "> [cloudshell-user@... ]$ echo \"I love \" $FOOD\n",
    ">```\n"
   ]
  },
  {
   "cell_type": "markdown",
   "metadata": {},
   "source": [
    "<font color=\"#0056D2\" >**Parent/Child Shell Variables**</font> \n"
   ]
  },
  {
   "cell_type": "markdown",
   "metadata": {},
   "source": [
    "\n",
    ">```console\n",
    "> [cloudshell-user@... ]$ VAR = 1 \n",
    "> [cloudshell-user@... ]$ echo $VAR\n",
    "> 1\n",
    "> [cloudshell-user@... ]$ bash\n",
    "> [cloudshell-user@... ]$ echo $VAR\n",
    ">\n",
    ">```"
   ]
  },
  {
   "cell_type": "markdown",
   "metadata": {},
   "source": [
    "\n",
    ">```console\n",
    "> [cloudshell-user@... ]$ export VAR2 = 2 \n",
    "> [cloudshell-user@... ]$ echo $VAR2\n",
    "> 2\n",
    "> [cloudshell-user@... ]$ bash\n",
    "> [cloudshell-user@... ]$ echo $VAR2\n",
    "> 2\n",
    ">```"
   ]
  },
  {
   "cell_type": "markdown",
   "metadata": {},
   "source": [
    "The bash child inherits the variables in the .bashrc "
   ]
  },
  {
   "cell_type": "markdown",
   "metadata": {},
   "source": [
    "It is only running this is the context of the child shell, the parent shell has nothing to do."
   ]
  },
  {
   "cell_type": "markdown",
   "metadata": {},
   "source": [
    "\n",
    ">```console\n",
    "> [cloudshell-user@... ]$ chmod +x ./run.sh\n",
    "> [cloudshell-user@... ]$ echo $ANIMAL\n",
    "> \n",
    ">```"
   ]
  },
  {
   "cell_type": "markdown",
   "metadata": {},
   "source": [
    "\n",
    ">```console\n",
    "> [cloudshell-user@... ]$ chmod +x ./env.sh\n",
    "> [cloudshell-user@... ]$ echo $FOOD\n",
    "> apple\n",
    ">```"
   ]
  },
  {
   "cell_type": "markdown",
   "metadata": {},
   "source": [
    "##  <font color=\"#0056D2\" >**What are standard streams?**</font> \n"
   ]
  },
  {
   "cell_type": "markdown",
   "metadata": {},
   "source": [
    "Standard streams are preconnected input and output communication channels between a computer program and its environment when it begins execution."
   ]
  },
  {
   "cell_type": "markdown",
   "metadata": {},
   "source": [
    "###  <font color=\"#0056D2\" >**Standard Out**</font> \n"
   ]
  },
  {
   "cell_type": "markdown",
   "metadata": {},
   "source": [
    "<font color=\"#0056D2\" >**Sort command**</font> \n"
   ]
  },
  {
   "cell_type": "markdown",
   "metadata": {},
   "source": [
    "\n",
    ">```console\n",
    "> [cloudshell-user@... ]$ echo -e \"Apple\\nCarrot\\nBanana\"\n",
    "> Apple\n",
    "> Carrot\n",
    "> Banana\n",
    "> [cloudshell-user@... ]$ echo -e \"Apple\\nCarrot\\nBanana\" > fruits.txt\n",
    "> [cloudshell-user@... ]$ echo -e \"Apple\\nCarrot\\nBanana\" | sort\n",
    "> Apple\n",
    "> Banana\n",
    "> Carrot\n",
    "> [cloudshell-user@... ]$ echo -e \"Apple\\nCarrot\\nBanana\" | sort > fruits.txt\n"
   ]
  },
  {
   "cell_type": "markdown",
   "metadata": {},
   "source": [
    "<font color=\"#0056D2\" >**Uniq command**</font>\n",
    "\n",
    "The elements should be sorted"
   ]
  },
  {
   "cell_type": "markdown",
   "metadata": {},
   "source": [
    ">```console\n",
    "> [cloudshell-user@... ]$ echo -e \"Apple\\nCarrot\\nBanana\\nApple\" | sort | uniq -c\n",
    ">```"
   ]
  },
  {
   "cell_type": "code",
   "execution_count": 2,
   "metadata": {},
   "outputs": [
    {
     "name": "stdout",
     "output_type": "stream",
     "text": [
      "      2 Apple\n",
      "      1 Banana\n",
      "      1 Carrot\n"
     ]
    }
   ],
   "source": [
    "!echo -e \"Apple\\nCarrot\\nBanana\\nApple\" | sort| uniq -c"
   ]
  },
  {
   "cell_type": "code",
   "execution_count": 4,
   "metadata": {},
   "outputs": [
    {
     "name": "stdout",
     "output_type": "stream",
     "text": [
      "      1 Apple\n",
      "      1 Carrot\n",
      "      1 Banana\n",
      "      1 Apple\n"
     ]
    }
   ],
   "source": [
    "!echo -e \"Apple\\nCarrot\\nBanana\\nApple\" | uniq -c"
   ]
  },
  {
   "cell_type": "markdown",
   "metadata": {},
   "source": [
    "<font color=\"#0056D2\" >**Grep command**</font>\n"
   ]
  },
  {
   "cell_type": "code",
   "execution_count": 6,
   "metadata": {},
   "outputs": [
    {
     "name": "stdout",
     "output_type": "stream",
     "text": [
      "codespa+    1507     549  0 02:51 ?        00:00:08 /vscode/bin/linux-x64/e54c774e0add60467559eb0d1e229c6452cf8447/node /home/codespace/.vscode-remote/extensions/ms-python.vscode-pylance-2025.2.1/dist/server.bundle.js --cancellationReceive=file:b29c8e2ef3b30819035d5c7abdd55a625a3acc5500 --node-ipc --clientProcessId=549\n",
      "codespa+    1986     549  0 02:52 ?        00:00:01 /home/codespace/.python/current/bin/python3 -m ipykernel_launcher --f=/home/codespace/.local/share/jupyter/runtime/kernel-v3af05aa7d908519620c9db1a29f02765cd90b8068.json\n",
      "codespa+   10646    1986 28 03:10 pts/3    00:00:00 /bin/bash -c ps -ef | grep python\n",
      "codespa+   10649   10646  0 03:10 pts/3    00:00:00 grep python\n"
     ]
    }
   ],
   "source": [
    "!ps -ef | grep python"
   ]
  },
  {
   "cell_type": "markdown",
   "metadata": {},
   "source": [
    "<font color=\"#0056D2\" >**Rev command**</font>\n"
   ]
  },
  {
   "cell_type": "code",
   "execution_count": 8,
   "metadata": {},
   "outputs": [
    {
     "name": "stdout",
     "output_type": "stream",
     "text": [
      "4321\n"
     ]
    }
   ],
   "source": [
    "! echo 1234 | rev"
   ]
  },
  {
   "cell_type": "markdown",
   "metadata": {},
   "source": [
    "###  <font color=\"#0056D2\" >**Standard In**</font> \n"
   ]
  },
  {
   "cell_type": "markdown",
   "metadata": {},
   "source": [
    "<font color=\"#0056D2\" >**Read -p command**</font>\n"
   ]
  },
  {
   "cell_type": "markdown",
   "metadata": {},
   "source": [
    ">```console\n",
    "> [cloudshell-user@... ]$ read -p 'File: ' FILENAME\n",
    "> File: fruit.txt\n",
    "> [cloudshell-user@... ]$ echo $FILENAME\n",
    "> fruit.txt\n",
    "> [cloudshell-user@... ]$ ./input.sh\n",
    ">File: fruits.txt\n",
    ">Full path:  /workspaces/Bash_Linux_course/Activity_02_using_bash/fruits.txt\n",
    ">```"
   ]
  },
  {
   "cell_type": "markdown",
   "metadata": {},
   "source": [
    ">```console\n",
    "> [cloudshell-user@... ]$ read -p 'File: ' FILENAME\n",
    "> File: fruit.txt\n",
    "> [cloudshell-user@... ]$ echo $FILENAME\n",
    "> fruit.txt\n",
    "> [cloudshell-user@... ]$ ./input.sh\n",
    ">File: fruits.txt\n",
    ">Full path:  /workspaces/Bash_Linux_course/Activity_02_using_bash/fruits.txt\n",
    ">```"
   ]
  },
  {
   "cell_type": "markdown",
   "metadata": {},
   "source": [
    "less command to accept the input of the fruit.txt"
   ]
  },
  {
   "cell_type": "markdown",
   "metadata": {},
   "source": [
    ">```console\n",
    "> [cloudshell-user@... ]$ less < fruit.txt\n",
    ">```"
   ]
  },
  {
   "cell_type": "markdown",
   "metadata": {},
   "source": [
    "###  <font color=\"#0056D2\" >**Standard Error**</font> \n"
   ]
  },
  {
   "cell_type": "markdown",
   "metadata": {},
   "source": [
    "Save the error output"
   ]
  },
  {
   "cell_type": "markdown",
   "metadata": {},
   "source": [
    ">```console\n",
    "> [cloudshell-user@... ]$ ls -l /var/FAKEDIR\n",
    "> [cloudshell-user@... ]$ ls -l /var/FAKEDIR 2> error.txt\n",
    "\n",
    ">```"
   ]
  },
  {
   "cell_type": "markdown",
   "metadata": {},
   "source": [
    "Don't want the errors to show up"
   ]
  },
  {
   "cell_type": "markdown",
   "metadata": {},
   "source": [
    ">```console\n",
    "> [cloudshell-user@... ]$ ls -l /var/FAKEDIR\n",
    "> [cloudshell-user@... ]$ ls -l /var/FAKEDIR 2> /dev/null\n",
    ">```"
   ]
  }
 ],
 "metadata": {
  "kernelspec": {
   "display_name": "Python 3",
   "language": "python",
   "name": "python3"
  },
  "language_info": {
   "codemirror_mode": {
    "name": "ipython",
    "version": 3
   },
   "file_extension": ".py",
   "mimetype": "text/x-python",
   "name": "python",
   "nbconvert_exporter": "python",
   "pygments_lexer": "ipython3",
   "version": "3.12.1"
  }
 },
 "nbformat": 4,
 "nbformat_minor": 2
}
