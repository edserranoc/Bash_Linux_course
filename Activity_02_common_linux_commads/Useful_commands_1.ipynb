{
 "cells": [
  {
   "cell_type": "markdown",
   "metadata": {},
   "source": [
    "# common-linux-commands-data-engineering\n",
    "---\n",
    "\n",
    "A few examples of common Linux Commands for Data Engineering\n",
    "\n",
    "Useful Commands\n",
    "\n",
    "Time and Date:\n",
    "- cal\n",
    "- date"
   ]
  },
  {
   "cell_type": "code",
   "execution_count": 1,
   "metadata": {},
   "outputs": [
    {
     "name": "stdout",
     "output_type": "stream",
     "text": [
      "   February 2025      \n",
      "Su Mo Tu We Th Fr Sa  \n",
      "                   1  \n",
      " 2  3  4  5  6  7  8  \n",
      " 9 10 11 12 13 14 15  \n",
      "16 17 18 19 20 21 \u001b[7m22\u001b[m  \n",
      "23 24 25 26 27 28     \n",
      "                      \n",
      "Sat Feb 22 10:28:10 UTC 2025\n"
     ]
    }
   ],
   "source": [
    "!cal && date"
   ]
  },
  {
   "cell_type": "markdown",
   "metadata": {},
   "source": [
    "Disk Usage or File Size:\n",
    "- df -h\n",
    "- du -sh *"
   ]
  },
  {
   "cell_type": "code",
   "execution_count": 2,
   "metadata": {},
   "outputs": [
    {
     "name": "stdout",
     "output_type": "stream",
     "text": [
      "Filesystem      Size  Used Avail Use% Mounted on\n",
      "overlay          32G   11G   20G  36% /\n",
      "tmpfs            64M     0   64M   0% /dev\n",
      "shm              64M  8.0K   64M   1% /dev/shm\n",
      "/dev/root        29G   13G   17G  45% /vscode\n",
      "/dev/sda1        44G   18G   24G  43% /tmp\n",
      "/dev/loop7       32G   11G   20G  36% /workspaces\n"
     ]
    }
   ],
   "source": [
    "!df -h"
   ]
  },
  {
   "cell_type": "code",
   "execution_count": 3,
   "metadata": {},
   "outputs": [
    {
     "name": "stdout",
     "output_type": "stream",
     "text": [
      "12K\tUseful_commands_1.ipynb\n",
      "4.0K\tnewdir\n",
      "4.0K\tsleeper.sh\n",
      "4.0K\twc.txt\n"
     ]
    }
   ],
   "source": [
    "!du -sh *"
   ]
  },
  {
   "cell_type": "markdown",
   "metadata": {},
   "source": [
    "Using the Shell\n",
    "Exploring:\n",
    "- pwd\n",
    "- ls -lah\n",
    "- 'which python3"
   ]
  },
  {
   "cell_type": "code",
   "execution_count": 4,
   "metadata": {},
   "outputs": [
    {
     "name": "stdout",
     "output_type": "stream",
     "text": [
      "/workspaces/Bash_Linux_course/Activity_02_common_linux_commads\n"
     ]
    }
   ],
   "source": [
    "!pwd"
   ]
  },
  {
   "cell_type": "code",
   "execution_count": 5,
   "metadata": {},
   "outputs": [
    {
     "name": "stdout",
     "output_type": "stream",
     "text": [
      "total 32K\n",
      "drwxrwxrwx+ 3 codespace codespace 4.0K Feb 22 10:18 .\n",
      "drwxrwxrwx+ 5 codespace root      4.0K Feb 22 10:14 ..\n",
      "-rw-rw-rw-  1 codespace codespace 8.2K Feb 22 10:28 Useful_commands_1.ipynb\n",
      "drwxrwxrwx+ 2 codespace codespace 4.0K Feb 22 09:54 newdir\n",
      "-rwxrwxrwx  1 codespace codespace   84 Feb 22 09:58 sleeper.sh\n",
      "-rw-rw-rw-  1 codespace codespace    5 Feb 22 10:18 wc.txt\n"
     ]
    }
   ],
   "source": [
    "!ls -lah"
   ]
  },
  {
   "cell_type": "code",
   "execution_count": 6,
   "metadata": {},
   "outputs": [
    {
     "name": "stdout",
     "output_type": "stream",
     "text": [
      "/home/codespace/.python/current/bin/python3\n"
     ]
    }
   ],
   "source": [
    "! which python3"
   ]
  },
  {
   "cell_type": "markdown",
   "metadata": {},
   "source": [
    "Viewing files:\n",
    "- less /etc/password\n",
    "- cat /etc/password"
   ]
  },
  {
   "cell_type": "markdown",
   "metadata": {},
   "source": [
    "Counting lines:\n",
    "- wc -l /etc/passwd"
   ]
  },
  {
   "cell_type": "markdown",
   "metadata": {},
   "source": [
    "Modifying Files and Directories\n",
    "- touch newfile.txt\n",
    "- mkdir newdir\n",
    "- mkdir -p moredir/dir1/dir2\n",
    "- rm -rf moredir"
   ]
  },
  {
   "cell_type": "code",
   "execution_count": 7,
   "metadata": {},
   "outputs": [
    {
     "name": "stdout",
     "output_type": "stream",
     "text": [
      "mkdir: cannot create directory ‘newdir’: File exists\n"
     ]
    }
   ],
   "source": [
    "!mkdir newdir\n",
    "!touch ./newdir/newfile.txt\n",
    "!mkdir -p moredir/dir1/dir2\n",
    "!rm -rf moredir"
   ]
  },
  {
   "cell_type": "markdown",
   "metadata": {},
   "source": [
    "Processes\n",
    "- ps\n",
    "- ./sleeper.sh \\&\n",
    "- fg 1"
   ]
  },
  {
   "cell_type": "code",
   "execution_count": 8,
   "metadata": {},
   "outputs": [
    {
     "name": "stdout",
     "output_type": "stream",
     "text": [
      "    PID TTY          TIME CMD\n",
      "  44228 pts/4    00:00:00 ps\n"
     ]
    }
   ],
   "source": [
    "!ps"
   ]
  },
  {
   "cell_type": "code",
   "execution_count": 9,
   "metadata": {},
   "outputs": [
    {
     "name": "stdout",
     "output_type": "stream",
     "text": [
      "codespa+   21480   12449  0 09:45 ?        00:00:00 /home/codespace/.vscode-remote/extensions/ms-python.python-2025.0.0-linux-x64/python-env-tools/bin/pet server\n",
      "codespa+   22075   12449  1 09:45 ?        00:00:34 /vscode/bin/linux-x64/e54c774e0add60467559eb0d1e229c6452cf8447/node /home/codespace/.vscode-remote/extensions/ms-python.vscode-pylance-2025.2.1/dist/server.bundle.js --cancellationReceive=file:940b83c0435c66438e73ea869213ced2f1c6a0407e --node-ipc --clientProcessId=12449\n",
      "codespa+   22292   12449  0 09:45 ?        00:00:03 /home/codespace/.python/current/bin/python -m ipykernel_launcher --f=/home/codespace/.local/share/jupyter/runtime/kernel-v358af4fc3dc2be4612e0a0d51c8d8fb991ed08774.json\n",
      "codespa+   35043   34942  0 10:12 ?        00:00:00 /home/codespace/.vscode-remote/extensions/ms-python.python-2025.0.0-linux-x64/python-env-tools/bin/pet server\n",
      "codespa+   35817   34942  1 10:12 ?        00:00:18 /vscode/bin/linux-x64/e54c774e0add60467559eb0d1e229c6452cf8447/node /home/codespace/.vscode-remote/extensions/ms-python.vscode-pylance-2025.2.1/dist/server.bundle.js --cancellationReceive=file:4a22b05649116fb9a2f0fb09b674a267c01823b530 --node-ipc --clientProcessId=34942\n",
      "codespa+   44148   34942  9 10:28 ?        00:00:00 /home/codespace/.python/current/bin/python -m ipykernel_launcher --f=/home/codespace/.local/share/jupyter/runtime/kernel-v3760154bff67c8b18852a011579758073940fe2ec.json\n",
      "codespa+   44229   44148  0 10:28 pts/4    00:00:00 /bin/bash -c ps -ef | grep python\n",
      "codespa+   44231   44229  0 10:28 pts/4    00:00:00 grep python\n"
     ]
    }
   ],
   "source": [
    "!ps -ef | grep python"
   ]
  },
  {
   "cell_type": "markdown",
   "metadata": {},
   "source": [
    "Shell Pipeline Examples"
   ]
  },
  {
   "cell_type": "markdown",
   "metadata": {},
   "source": [
    "- wc -l :word count per lines\n",
    "- \\> :  write the previous output of the pipeline into it."
   ]
  },
  {
   "cell_type": "code",
   "execution_count": 10,
   "metadata": {},
   "outputs": [],
   "source": [
    "!ls -l /usr/bin | wc -l > wc.txt"
   ]
  },
  {
   "cell_type": "markdown",
   "metadata": {},
   "source": [
    "&& :  Executes the second command only if the first one succeeds."
   ]
  },
  {
   "cell_type": "code",
   "execution_count": 11,
   "metadata": {},
   "outputs": [
    {
     "name": "stdout",
     "output_type": "stream",
     "text": [
      "-rw-rw-rw- 1 codespace codespace 5 Feb 22 10:28 wc.txt\n",
      "wc.txt is located to current path\n"
     ]
    }
   ],
   "source": [
    "!ls -l wc.txt && echo \"wc.txt is located to current path\""
   ]
  },
  {
   "cell_type": "code",
   "execution_count": 20,
   "metadata": {},
   "outputs": [],
   "source": [
    "!STR=$'1. This is a line\\n2. This is a line\\n3. This is a line.' #doesn't save $STR\n",
    "!echo \"$STR\" >> wc.txt"
   ]
  }
 ],
 "metadata": {
  "kernelspec": {
   "display_name": "Python 3",
   "language": "python",
   "name": "python3"
  },
  "language_info": {
   "codemirror_mode": {
    "name": "ipython",
    "version": 3
   },
   "file_extension": ".py",
   "mimetype": "text/x-python",
   "name": "python",
   "nbconvert_exporter": "python",
   "pygments_lexer": "ipython3",
   "version": "3.12.1"
  }
 },
 "nbformat": 4,
 "nbformat_minor": 2
}
