{
 "cells": [
  {
   "cell_type": "markdown",
   "metadata": {},
   "source": [
    "# common-linux-commands-data-engineering\n",
    "---\n",
    "\n",
    "A few examples of common Linux Commands for Data Engineering\n",
    "\n",
    "Useful Commands\n",
    "\n",
    "Time and Date:\n",
    "- cal\n",
    "- date"
   ]
  },
  {
   "cell_type": "code",
   "execution_count": 3,
   "metadata": {},
   "outputs": [
    {
     "name": "stdout",
     "output_type": "stream",
     "text": [
      "   February 2025      \n",
      "Su Mo Tu We Th Fr Sa  \n",
      "                   1  \n",
      " 2  3  4  5  6  7  8  \n",
      " 9 10 11 12 13 14 15  \n",
      "16 17 18 19 20 21 \u001b[7m22\u001b[m  \n",
      "23 24 25 26 27 28     \n",
      "                      \n",
      "Sat Feb 22 09:46:54 UTC 2025\n"
     ]
    }
   ],
   "source": [
    "!cal && date"
   ]
  },
  {
   "cell_type": "markdown",
   "metadata": {},
   "source": [
    "Disk Usage or File Size:\n",
    "- df -h\n",
    "- du -sh *"
   ]
  },
  {
   "cell_type": "code",
   "execution_count": 5,
   "metadata": {},
   "outputs": [
    {
     "name": "stdout",
     "output_type": "stream",
     "text": [
      "Filesystem      Size  Used Avail Use% Mounted on\n",
      "overlay          32G   11G   20G  36% /\n",
      "tmpfs            64M     0   64M   0% /dev\n",
      "shm              64M  8.0K   64M   1% /dev/shm\n",
      "/dev/root        29G   13G   17G  45% /vscode\n",
      "/dev/sda1        44G   18G   24G  43% /tmp\n",
      "/dev/loop7       32G   11G   20G  36% /workspaces\n"
     ]
    }
   ],
   "source": [
    "!df -h"
   ]
  },
  {
   "cell_type": "code",
   "execution_count": 10,
   "metadata": {},
   "outputs": [
    {
     "name": "stdout",
     "output_type": "stream",
     "text": [
      "4.0K\tUseful_commands.ipynb\n"
     ]
    }
   ],
   "source": [
    "!du -sh *"
   ]
  },
  {
   "cell_type": "markdown",
   "metadata": {},
   "source": [
    "Using the Shell\n",
    "Exploring:\n",
    "- pwd\n",
    "- ls -lah\n",
    "- 'which python3"
   ]
  },
  {
   "cell_type": "code",
   "execution_count": 11,
   "metadata": {},
   "outputs": [
    {
     "name": "stdout",
     "output_type": "stream",
     "text": [
      "/workspaces/Bash_Linux_course/activity_02_common_linux_commads\n"
     ]
    }
   ],
   "source": [
    "!pwd"
   ]
  },
  {
   "cell_type": "code",
   "execution_count": 13,
   "metadata": {},
   "outputs": [
    {
     "name": "stdout",
     "output_type": "stream",
     "text": [
      "total 12K\n",
      "drwxrwxrwx+ 2 codespace codespace 4.0K Feb 22 09:44 .\n",
      "drwxrwxrwx+ 5 codespace root      4.0K Feb 22 09:35 ..\n",
      "-rw-rw-rw-  1 codespace codespace 3.2K Feb 22 09:50 Useful_commands.ipynb\n"
     ]
    }
   ],
   "source": [
    "!ls -lah"
   ]
  },
  {
   "cell_type": "code",
   "execution_count": 14,
   "metadata": {},
   "outputs": [
    {
     "name": "stdout",
     "output_type": "stream",
     "text": [
      "/home/codespace/.python/current/bin/python3\n"
     ]
    }
   ],
   "source": [
    "! which python3"
   ]
  },
  {
   "cell_type": "markdown",
   "metadata": {},
   "source": [
    "Viewing files:\n",
    "- less /etc/password\n",
    "- cat /etc/password"
   ]
  },
  {
   "cell_type": "markdown",
   "metadata": {},
   "source": [
    "Counting lines:\n",
    "- wc -l /etc/passwd"
   ]
  },
  {
   "cell_type": "markdown",
   "metadata": {},
   "source": [
    "Modifying Files and Directories\n",
    "- touch newfile.txt\n",
    "- mkdir newdir\n",
    "- mkdir -p moredir/dir1/dir2\n",
    "- rm -rf moredir"
   ]
  },
  {
   "cell_type": "code",
   "execution_count": 15,
   "metadata": {},
   "outputs": [],
   "source": [
    "!mkdir newdir\n",
    "!touch ./newdir/newfile.txt\n",
    "!mkdir -p moredir/dir1/dir2\n",
    "!rm -rf moredir"
   ]
  },
  {
   "cell_type": "markdown",
   "metadata": {},
   "source": [
    "Processes\n",
    "- ps\n",
    "- ./sleeper.sh \\&\n",
    "- fg 1"
   ]
  },
  {
   "cell_type": "code",
   "execution_count": 16,
   "metadata": {},
   "outputs": [
    {
     "name": "stdout",
     "output_type": "stream",
     "text": [
      "    PID TTY          TIME CMD\n",
      "  27159 pts/3    00:00:00 ps\n"
     ]
    }
   ],
   "source": [
    "!ps"
   ]
  },
  {
   "cell_type": "code",
   "execution_count": 19,
   "metadata": {},
   "outputs": [
    {
     "name": "stdout",
     "output_type": "stream",
     "text": [
      "codespa+   21480   12449  0 09:45 ?        00:00:00 /home/codespace/.vscode-remote/extensions/ms-python.python-2025.0.0-linux-x64/python-env-tools/bin/pet server\n",
      "codespa+   22075   12449  3 09:45 ?        00:00:27 /vscode/bin/linux-x64/e54c774e0add60467559eb0d1e229c6452cf8447/node /home/codespace/.vscode-remote/extensions/ms-python.vscode-pylance-2025.2.1/dist/server.bundle.js --cancellationReceive=file:940b83c0435c66438e73ea869213ced2f1c6a0407e --node-ipc --clientProcessId=12449\n",
      "codespa+   22292   12449  0 09:45 ?        00:00:02 /home/codespace/.python/current/bin/python -m ipykernel_launcher --f=/home/codespace/.local/share/jupyter/runtime/kernel-v358af4fc3dc2be4612e0a0d51c8d8fb991ed08774.json\n",
      "codespa+   27723   14111  0 09:57 pts/2    00:00:00 python3\n",
      "codespa+   27778   22292  0 09:57 pts/3    00:00:00 /bin/bash -c ps -ef | grep python\n",
      "codespa+   27780   27778  0 09:57 pts/3    00:00:00 grep python\n"
     ]
    }
   ],
   "source": [
    "!ps -ef | grep python"
   ]
  }
 ],
 "metadata": {
  "kernelspec": {
   "display_name": "Python 3",
   "language": "python",
   "name": "python3"
  },
  "language_info": {
   "codemirror_mode": {
    "name": "ipython",
    "version": 3
   },
   "file_extension": ".py",
   "mimetype": "text/x-python",
   "name": "python",
   "nbconvert_exporter": "python",
   "pygments_lexer": "ipython3",
   "version": "3.12.1"
  }
 },
 "nbformat": 4,
 "nbformat_minor": 2
}
