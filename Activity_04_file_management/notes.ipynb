{
 "cells": [
  {
   "cell_type": "markdown",
   "metadata": {},
   "source": [
    "<hr>\n",
    "<div style=\"background-color: lightgray; padding: 20px; color: black;\">\n",
    "<div>\n",
    "<img src=\"https://upload.wikimedia.org/wikipedia/commons/thumb/9/97/Coursera-Logo_600x600.svg/1024px-Coursera-Logo_600x600.svg.png\" style=\"float: right; margin-right: 30px;\" width=\"120\"/> \n",
    "<font size=\"6.5\" color=\"#0056D2\"><b>Composing File and Data Solutions</b></font> <br>\n",
    "<font size=\"5.5\" color=\"#0056D2\"><b>Linux and Bash for Data Engineering </b></font> \n",
    "</div>\n",
    "<div style=\"text-align: left\">  <br>\n",
    "Edison David Serrano Cárdenas. <br>\n",
    "MSc en Matemáticas Aplicadas <br>\n",
    "CIMAT - Sede Guanajuato <br>\n",
    "</div>\n",
    "\n",
    "</div>\n",
    "<hr>\n",
    "\n",
    "##  <font color=\"#0056D2\" >**Objetives**</font> "
   ]
  },
  {
   "cell_type": "markdown",
   "metadata": {},
   "source": [
    "In this module, you will learn to use Linux to compose file and data management solutions. You will also learn to search the filesystem, modify files, directories and control permissions. You will then process text in Bash and apply this knowledge to create a search solution in Bash."
   ]
  },
  {
   "cell_type": "markdown",
   "metadata": {},
   "source": [
    "## <font color=\"#0056D2\" >**Introduction to Searching the Filesystem in Linux**</font> "
   ]
  },
  {
   "cell_type": "markdown",
   "metadata": {},
   "source": [
    "<font color=\"#0056D2\" >**Objetives**</font> \n",
    "\n",
    "- Why would you want to search the filesystem?\n",
    "- Using the locate and find commands to find files?\n",
    "- Using xargs\n"
   ]
  },
  {
   "cell_type": "markdown",
   "metadata": {},
   "source": [
    "\n",
    "\n",
    " <font color=\"#0056D2\" >**Key Points**</font> \n",
    "\n",
    "- Searching file systems is needed to locate files as data grows. Visual scanning fails.\n",
    "- Live searches with find are slow but thorough. Use locate for fast searches if indexed.\n",
    "\n",
    "- Tools like xargs allow acting on search results for automation.\n"
   ]
  },
  {
   "cell_type": "markdown",
   "metadata": {},
   "source": [
    "<font color=\"#0056D2\" >**Methods for Searching a Filesystem in Linux**</font> \n",
    "\n"
   ]
  },
  {
   "cell_type": "markdown",
   "metadata": {},
   "source": [
    "**visual**         <br>\n",
    "|_____ foo.txt  <br>\n",
    "|_____ dir      <br>\n",
    "\n",
    "**live**            <br>\n",
    "|_____ find .txt  <br>\n",
    "\n",
    "**visual**          <br>\n",
    "|_____ locate .txt  <br>\n",
    "\n"
   ]
  },
  {
   "cell_type": "markdown",
   "metadata": {},
   "source": [
    "<font color=\"#0056D2\" >**Using the Locate Command to Find Files in Linux**</font> \n",
    "\n",
    "\n"
   ]
  },
  {
   "cell_type": "markdown",
   "metadata": {},
   "source": [
    "Locate: `AWS CloudShell` \n",
    "\n",
    "\n",
    ">```console\n",
    "> [cloudshell-user@... ]$ sudo yum install mlocate\n",
    "> ...\n",
    "> [cloudshell-user@... ]$ sudo updatedb\n",
    "> [cloudshell-user@... ]$ locate .zshrc\n",
    "> /etc/skel/.zshrc\n",
    "> /home/cloudshell-user/.zshrc\n",
    "> [cloudshell-user@... ]$ locate -c .zshrc\n",
    "> 2\n",
    "> [cloudshell-user@... ]$ locate -c .ZSHRC\n",
    ">\n",
    "> [cloudshell-user@... ]$ locate -i .ZSHRC\n",
    "> /etc/skel/.zshrc\n",
    "> /home/cloudshell-user/.zshrc\n",
    "> ```\n"
   ]
  },
  {
   "cell_type": "markdown",
   "metadata": {},
   "source": [
    "<font color=\"#0056D2\" >**Using the Find Command to Find Files in Linux**</font> \n",
    "\n",
    "\n",
    "\n"
   ]
  },
  {
   "cell_type": "markdown",
   "metadata": {},
   "source": [
    "Find: `AWS CloudShell` \n",
    "\n",
    "\n",
    ">```console\n",
    "> [cloudshell-user@... ]$ find . -name .zshrc\n",
    "> ./.zshrc\n",
    "> [cloudshell-user@... ]$ sudo find / -name .zshrc\n",
    "> /home/cloudshell-user/.zshrc\n",
    "> /etc/skel/.zshrc\n",
    "> [cloudshell-user@... ]$ time sudo find / -name .zshrc\n",
    "> /home/cloudshell-user/.zshrc\n",
    "> /etc/skel/.zshrc\n",
    "> \n",
    "> real Qm1.047s\n",
    "> user Qmd. 265s\n",
    "> sys Qmd. 283s\n",
    "> [cloudshell-user@... ]$ time locate .zshrc\n",
    ">/etc/skel/.zshrc\n",
    ">/home/cloudshell-user/.zshrc\n",
    ">/home/cloudshell-user/other/.zshrc\n",
    ">\n",
    ">real Qm0.035s\n",
    ">user Qmd.031s\n",
    ">sys Qmd. 004s\n",
    ">\n",
    "> ```\n"
   ]
  },
  {
   "cell_type": "markdown",
   "metadata": {},
   "source": [
    "<font color=\"#0056D2\" >**Using xargs to Extend Search Capabilities in Linux**</font> \n",
    "\n",
    "\n",
    "\n"
   ]
  },
  {
   "cell_type": "markdown",
   "metadata": {},
   "source": [
    "xargs: `AWS CloudShell` It allows acting on search results.\n",
    "\n",
    ">```console\n",
    "> [cloudshell-user@... ]$ touch /tmp/foo{0..10}.txt\n",
    "> ls -l /tmp\n",
    "> total 0\n",
    "> -rw-rw-rw- 1 codespace codespace 0 Mar 23 23:46 foo0.txt\n",
    "> -rw-rw-rw- 1 codespace codespace 0 Mar 23 23:46 foo1.txt\n",
    "> -rw-rw-rw- 1 codespace codespace 0 Mar 23 23:46 foo10.txt\n",
    "> -rw-rw-rw- 1 codespace codespace 0 Mar 23 23:46 foo2.txt\n",
    "> -rw-rw-rw- 1 codespace codespace 0 Mar 23 23:46 foo3.txt\n",
    "> -rw-rw-rw- 1 codespace codespace 0 Mar 23 23:46 foo4.txt\n",
    "> -rw-rw-rw- 1 codespace codespace 0 Mar 23 23:46 foo5.txt\n",
    "> -rw-rw-rw- 1 codespace codespace 0 Mar 23 23:46 foo6.txt\n",
    "> -rw-rw-rw- 1 codespace codespace 0 Mar 23 23:46 foo7.txt\n",
    "> -rw-rw-rw- 1 codespace codespace 0 Mar 23 23:46 foo8.txt\n",
    "> -rw-rw-rw- 1 codespace codespace 0 Mar 23 23:46 foo9.txt\n",
    ">[cloudshell-user@... ]$ find ./txt_files/ -name foo* -type f -print\n",
    "> ./txt_files/foo6.txt\n",
    "> ./txt_files/foo4.txt\n",
    "> ./txt_files/foo2.txt\n",
    "> ./txt_files/foo10.txt\n",
    "> ./txt_files/foo5.txt\n",
    "> ./txt_files/foo7.txt\n",
    "> ./txt_files/foo3.txt\n",
    "> ./txt_files/foo0.txt\n",
    "> ./txt_files/foo1.txt\n",
    "> ./txt_files/foo8.txt\n",
    "> ./txt_files/foo9.txt\n",
    "> [cloudshell-user@... ]$ find /tmp -name foo* -type f -print | xargs /bin/rm -f\n",
    ">[cloudshell-user@... ]$ find /tmp -name foo* -type f -print\n",
    ">\n",
    "> ```\n"
   ]
  },
  {
   "cell_type": "markdown",
   "metadata": {},
   "source": [
    "<font color=\"#0056D2\" >**Using mdfind on OS 10**</font> \n",
    "\n",
    "\n",
    "\n"
   ]
  },
  {
   "cell_type": "markdown",
   "metadata": {},
   "source": [
    "mdfind: `OS 10` \n",
    "\n",
    "\n",
    ">```console\n",
    "> [cloudshell-user@... ]$ pwd\n",
    "> [cloudshell-user@... ]$ man mdfind\n",
    "> [cloudshell-user@... ]$ mdfind -name readme.txt -onlyin .\n",
    "> /Users/noahgift/src/pragai-hugo/static/resources/readme. txt\n",
    ">/Users/noahgift/src/or/pyomo_examples/README. txt\n",
    ">/Users/noahgift/src/resources/readme.txt\n",
    ">/Users/noahgift/src/opscookbook/manuscript/resources/readme.txt\n",
    "> » src mdfind -name readme.txt -onlyin . -live\n",
    ">/Users/noahgift/src/readme. txt\n",
    ">/Users/noahgift/src/pragai-hugo/static/resources/readme. txt\n",
    ">/Users/noahgift/src/or/pyomo_examples/README. txt\n",
    ">/Users/noahgift/src/resources/readme. txt\n",
    ">/Users/noahgift/src/opscookbook/manuscript/resources/readme. txt\n",
    "> src mdfind -name readme.txt -onlyin . date:12/1/2011-12/1/2021\n",
    ">/Users/noahgift/src/pragai-hugo/static/resources/reatime. txt\n",
    ">/Users/noahgift/src/or/pyomo_examples/README. txt\n",
    ">/Users/noahgift/src/resources/readme. txt\n",
    ">/Users/noahgift/src/opscookbook/manuscript/resources/readme. txt\n",
    "> src mdfind 'kMDItemFSSize >= 10000000000'\n",
    "> src mdfind 'kMDItemFSSize >= 10000000000' | xargs du -sh\n",
    "> src mdfind 'kMDItemFSSize >= 10000000000' | grep Xcode | xargs du -sh\n",
    "\n",
    "> \n",
    "> \n",
    "> \n",
    "> \n",
    "> ```\n"
   ]
  },
  {
   "cell_type": "markdown",
   "metadata": {},
   "source": [
    "\n",
    "The locate command is faster because it searches a pre-built database of files, while find performs a live search of the file system, which makes it slower but more accurate. find provides up-to-the-minute results and supports more advanced search options like filtering by file size, permissions, or modification time."
   ]
  },
  {
   "cell_type": "markdown",
   "metadata": {},
   "source": [
    "find: `OS 10`  Find logs over 10 MB, tar them up\n",
    "\n",
    ">```console\n",
    "> [cloudshell-user@... ]$ find /var/log -type f -size +10M -print | xargs tar -cvzf logs.tar.gz\n",
    ">```\n",
    "\n"
   ]
  },
  {
   "cell_type": "markdown",
   "metadata": {},
   "source": [
    "\n",
    "\n",
    "<div class=\"alert alert-block alert-info\">\n",
    "<b>Note:</b> The locate command is faster because it searches a pre-built database of files, while find performs a live search of the file system, which makes it slower but more accurate. find provides up-to-the-minute results and supports more advanced search options like filtering by file size, permissions, or modification time.  </div>"
   ]
  },
  {
   "cell_type": "markdown",
   "metadata": {},
   "source": [
    "## <font color=\"#0056D2\" >**Modifying Files, Directories, Permissions and Archiving in Linux**</font> "
   ]
  },
  {
   "cell_type": "markdown",
   "metadata": {},
   "source": [
    "<font color=\"#0056D2\" >**Objetives**</font> \n",
    "\n",
    "- Creating and deleting files and folders with commands like mkdir, touch, rm\n",
    "- Moving and copying files using mv and cp\n",
    "- Synchronizing directories with rsync\n",
    "- Changing permissions with chmod\n",
    "- Archiving files using zip and tar\n",
    "\n",
    "\n",
    "\n",
    "\n",
    " <font color=\"#0056D2\" >**Key Points**</font> \n",
    "\n",
    "- The Linux CLI provides powerful commands for managing your file system\n",
    "- Understanding permissions allows controlled access\n",
    "- Archiving data is crucial for backups and portability\n"
   ]
  },
  {
   "cell_type": "markdown",
   "metadata": {},
   "source": [
    "<font color=\"#0056D2\" >**Key Terms**</font> \n",
    "\n",
    "- mkdir - Makes a new directory. Example: mkdir mydirectory\n",
    "- touch - Creates a new empty file. Example: touch myfile.txt\n",
    "- mv - Moves a file or directory. Example: mv file.txt /newlocation/file.txt\n",
    "- cp - Copies a file or directory. Example: cp -r mydir /backup/mydir copies mydir recursively.\n",
    "- rsync - Synchronizes files between directories.\n",
    "- chmod - Changes file permissions. Example: chmod 600 file.txt\n",
    "- zip - Archives files into a zipped folder. Example:\n"
   ]
  },
  {
   "cell_type": "markdown",
   "metadata": {},
   "source": [
    "- Records:\n",
    "    - **C:** (Create) touch, mkdir\n",
    "    - **R:** (Read) cat,less, grep\n",
    "    - **U:** (Update) mv, tar, zip, chmod\n",
    "    - **D:** (Delete) rm,rmdir"
   ]
  },
  {
   "cell_type": "markdown",
   "metadata": {},
   "source": [
    "<font color=\"#0056D2\" >**Moving Files and Directories in Linux**</font> \n"
   ]
  },
  {
   "cell_type": "markdown",
   "metadata": {},
   "source": [
    "mkdir: `AWS CloudShell` \n",
    "\n",
    ">```console\n",
    "> [cloudshell-user@... ]$ mkdir -p bar/bam/biz\n",
    "> [cloudshell-user@... ]$ ls -lR (to recursively wacth the files and subfolders of a specific location, minor r to just files)\n",
    "> [cloudshell-user@... ]$ touch bar/one.txt\n",
    "> [cloudshell-user@... ]$\n",
    ">```\n",
    "\n"
   ]
  },
  {
   "cell_type": "markdown",
   "metadata": {},
   "source": [
    "mv: `AWS CloudShell`\n",
    ">```console\n",
    "> [cloudshell-user@... ]$ mv bar /tmp/\n",
    ">```"
   ]
  },
  {
   "cell_type": "markdown",
   "metadata": {},
   "source": [
    "mv: `AWS CloudShell`\n",
    ">```console\n",
    "> [cloudshell-user@... ]$ mv bar /tmp/\n",
    ">```"
   ]
  },
  {
   "cell_type": "markdown",
   "metadata": {},
   "source": [
    "cp: `AWS CloudShell`\n",
    ">```console\n",
    "> [cloudshell-user@... ]$ cp  -r bar/bam .\n",
    ">```"
   ]
  },
  {
   "cell_type": "markdown",
   "metadata": {},
   "source": [
    "rsync: `AWS CloudShell`\n",
    "\n",
    "**txt_files**       <br>\n",
    "|_____ foo          <br>\n",
    "|__________ one.txt     <br>\n",
    "|__________ two.txt     <br>\n",
    "|__________ three.txt   <br>\n",
    "|__________ four.txt   <br>\n",
    "|_____ newspot      <br>\n",
    "|__________ foo         <br>\n",
    "|_______________ one.txt     <br>\n",
    "|_______________ two.txt     <br>\n",
    "|_______________ three.txt   <br>\n",
    "|_______________ four.txt   <br>\n",
    "\n",
    "foo and newspot/foo are different. We are going to synchronize the changes.\n",
    "\n",
    ">```console\n",
    "> [cloudshell-user@... ]$ rsync -av foo/ newspot/foo/\n",
    "> sending incremental file list\n",
    "> ./\n",
    "> two.txt\n",
    "> \n",
    "> sent 202 bytes  received 38 bytes  480.00 bytes/sec\n",
    "> total size is 0  speedup is 0.00\n",
    ">```"
   ]
  },
  {
   "cell_type": "markdown",
   "metadata": {},
   "source": [
    "<font color=\"#0056D2\" >**Setting Permissions on Files and Directories in Linux**</font> \n",
    "\n",
    "\n"
   ]
  },
  {
   "cell_type": "markdown",
   "metadata": {},
   "source": [
    "chmod: `AWS CloudShell`\n",
    ">```console\n",
    "> [cloudshell-user@... ]$ ls -l\n",
    "> drwxrwxrwx+ 2 codespace codespace 4096 Mar 26 23:43 foo\n",
    "> drwxrwxrwx+ 3 codespace codespace 4096 Mar 26 23:24 newspot\n",
    ">```"
   ]
  },
  {
   "cell_type": "markdown",
   "metadata": {},
   "source": [
    "\n",
    "The mode: `drwxrwxrwx+` and this refers to a group of different permissions.We have the user permissions, we have the group permissions, and then the last set here is the other permission, so basically anybody on the file system.\n",
    "\n",
    "The owner and the group:  `codespace codespace\n",
    "\n",
    "\n",
    "<font color=\"#0056D2\" >**Permissions**</font> \n",
    "\n",
    "```bash\n",
    "Name    Owner   Group   Other\n",
    "access  r w x   r w x   r w x\n",
    "binary  4 2 1   4 2 1   4 2 1\n",
    "enabled 1 1 1   1 0 1   1 0 0\n",
    "\n",
    "result  4 2 1   4 0 1   400\n",
    "\n",
    "total     7       5       4       \n",
    "```"
   ]
  },
  {
   "cell_type": "markdown",
   "metadata": {},
   "source": [
    "chmod: `AWS CloudShell`\n",
    ">```console\n",
    "> [cloudshell-user@... ]$ ls -l\n",
    "> -rw-rw-rw- 1 codespace codespace 0 Mar 26 23:59 script.sh\n",
    "> [cloudshell-user@... ]$ chmod 777 script.sh\n",
    ">[cloudshell-user@... ]$ ls -l\n",
    "> -rwxrwxrwx 1 codespace codespace 0 Mar 26 23:59 script.sh\n",
    ">```"
   ]
  },
  {
   "cell_type": "markdown",
   "metadata": {},
   "source": [
    "chmod: `AWS CloudShell` Only the owner can read the file:\n",
    ">```console\n",
    "> [cloudshell-user@... ]$ chmod 400 script.sh\n",
    "> -r-------- 1 codespace codespace 0 Mar 26 23:59 script.sh\n",
    "> [cloudshell-user@... ]$ ./script.sh\n",
    ">bash: ./script.sh: Permission denied\n",
    "> [cloudshell-user@... ]$ whoami\n",
    "> codespace\n",
    "> [cloudshell-user@... ]$ sudo su -\n",
    "> [cloudshell-user@... ]$ whoami\n",
    "> root\n",
    ">```\n"
   ]
  },
  {
   "cell_type": "markdown",
   "metadata": {},
   "source": [
    "<font color=\"#0056D2\" >**Archiving Data in Linux**</font> \n"
   ]
  },
  {
   "cell_type": "markdown",
   "metadata": {},
   "source": [
    "zip: `AWS CloudShell` Archive and unarchive files\n",
    ">```console\n",
    "> [cloudshell-user@... ]$ zip -r archives/foo.zip foo\n",
    ">   adding: foo/ (stored 0%)\n",
    ">   adding: foo/three.txt (stored 0%)\n",
    ">   adding: foo/one.txt (stored 0%)\n",
    ">   adding: foo/four.txt (stored 0%)\n",
    ">   adding: foo/two.txt (stored 0%)\n",
    "> [cloudshell-user@... ]$ cd archives\n",
    "> [cloudshell-user@... ]$ unzip foo.zip\n",
    ">   Archive:  foo.zip\n",
    ">   reating: foo/\n",
    ">   extracting: foo/three.txt           \n",
    ">   extracting: foo/one.txt             \n",
    ">   extracting: foo/four.txt            \n",
    ">   extracting: foo/two.txt   \n",
    ">```\n",
    "\n",
    "tar: `AWS CloudShell` Archive and unarchive files\n",
    ">```console\n",
    "> [cloudshell-user@... ]$ tar -zcvf archives/foo.tgz foo\n",
    ">    foo/\n",
    "> foo/three.txt\n",
    "> foo/one.txt\n",
    "> foo/four.txt\n",
    "> foo/two.txt\n",
    "> [cloudshell-user@... ]$ tar -zxvf foo.tgz\n",
    ">    foo/\n",
    ">    foo/three.txt\n",
    ">    foo/one.txt\n",
    ">    foo/four.txt\n",
    ">    foo/two.txt\n",
    ">```"
   ]
  },
  {
   "cell_type": "markdown",
   "metadata": {},
   "source": [
    "## <font color=\"#0056D2\" >**Introduction to Processing Text in Linux**</font> "
   ]
  },
  {
   "cell_type": "markdown",
   "metadata": {},
   "source": [
    "<font color=\"#0056D2\" >**Objetives**</font> \n",
    "\n",
    "- Overview of processing text\n",
    "- Using grep, cut, sort and unique\n",
    "- Using regex\n"
   ]
  },
  {
   "cell_type": "markdown",
   "metadata": {},
   "source": [
    "<font color=\"#0056D2\" >**Key Terms**</font> "
   ]
  },
  {
   "cell_type": "markdown",
   "metadata": {},
   "source": [
    "- **grep** - searches for text patterns and outputs matching lines\n",
    "- **cut**- removes/cuts out sections from each line of files\n",
    "- **sort** - sorts the contents of a file line by line\n",
    "- **uniq** - reports or filters out repeated lines in a file\n",
    "- **awk**- pattern scanning and processing language"
   ]
  },
  {
   "cell_type": "markdown",
   "metadata": {},
   "source": [
    "<font color=\"#0056D2\" >**Using grep, cut, sort and unique in Linux**</font> "
   ]
  },
  {
   "cell_type": "markdown",
   "metadata": {},
   "source": [
    "grep: `CodeSpace`\n",
    ">```console\n",
    "> [cloudshell-user@... ]$ grep -c plastic amazon_reviews_appliances_5k_with_sentiment.txt \n",
    ">    125\n",
    "> [cloudshell-user@... ]$  wc -l amazon_reviews_appliances_5k_with_sentiment.txt \n",
    "> 4999 amazon_reviews_appliances_5k_with_sentiment.txt\n",
    ">```"
   ]
  },
  {
   "cell_type": "markdown",
   "metadata": {},
   "source": [
    "diff: `CodeSpace`\n",
    ">```console\n",
    "> [cloudshell-user@... ]$ diff fruit*\n",
    ">   4d3\n",
    ">   < apple\n",
    "> cloudshell-user@... ]$ diff Fruits1.txt fruits2.txt\n",
    ">```"
   ]
  },
  {
   "cell_type": "markdown",
   "metadata": {},
   "source": [
    "uniq: `CodeSpace`\n",
    ">```console\n",
    "> [cloudshell-user@... ]$ uniq -c fruitl.txt\n",
    ">   1 cherry\n",
    ">   1 pear\n",
    ">   1 strawberry\n",
    ">   2 apple\n",
    ">```"
   ]
  },
  {
   "cell_type": "markdown",
   "metadata": {},
   "source": [
    "cut -d, -f1: `CodeSpace`\n",
    ">```console\n",
    "> [cloudshell-user@... ]$ cat amazon_reviews_appliances_5k_with_sentiment.txt | rev | cut -d, -f1 | rev\n",
    ">```\n",
    "\n",
    "\n"
   ]
  },
  {
   "cell_type": "markdown",
   "metadata": {},
   "source": [
    "<font color=\"#0056D2\" >**Editing with Truncation, awk and sed in Linux**</font> \n"
   ]
  },
  {
   "cell_type": "markdown",
   "metadata": {},
   "source": [
    "cut -d, -f1: `CodeSpace`\n",
    ">```console\n",
    "> [cloudshell-user@... ]$ echo \"lower\" | tr a-z A-Z\n",
    ">   LOWER\n",
    ">```\n",
    "\n",
    "\n"
   ]
  },
  {
   "cell_type": "markdown",
   "metadata": {},
   "source": [
    "cut -d, -f1: `CodeSpace`\n",
    ">```console\n",
    "> [cloudshell-user@... ]$ echo \"MIXED\" | sed 's/MIXED/NEGATIVE/'\n",
    "> NEGATIVE\n",
    ">```\n",
    "\n",
    "\n"
   ]
  },
  {
   "cell_type": "markdown",
   "metadata": {},
   "source": [
    "awk 'NF < 10', -f1: `CodeSpace`\n",
    ">```console\n",
    "> [cloudshell-user@... ]$ shut -n 200 amazon_reviews_appliances_5k_with_sentiment.txt | sed 's/MIXED/NEGATIVE/'| awk 'NF < 10'\n",
    "> ...\n",
    ">```\n",
    "\n",
    "\n",
    "\n",
    "\n",
    "\n",
    "\n"
   ]
  },
  {
   "cell_type": "markdown",
   "metadata": {},
   "source": [
    "<font color=\"#0056D2\" >**Using Regular Expressions (regex) in Linux**</font> "
   ]
  },
  {
   "cell_type": "markdown",
   "metadata": {},
   "source": [
    "awk 'NF < 10', -f1: `CodeSpace`\n",
    "```bash\n",
    " [cloudshell-user@... ]$ shut -n 200 amazon_reviews_appliances_5k_with_sentiment.txt | sed 's/MIXED/NEGATIVE/'| awk 'NF < 10'\n",
    " ...\n",
    "```"
   ]
  },
  {
   "cell_type": "markdown",
   "metadata": {},
   "source": [
    "The main point is to match patterns in text\n",
    "\n",
    "> ```bash\n",
    "> echo 415-444-5599 | grep '\\(([0-9]\\{3\\})\\|[0-9]\\{3\\}\\)[ -]\\?[0-9]\\{3\\}[ -]\\?[0-9]\\{4\\}'\n",
    "> \n",
    "> echo 41-444-5599 | grep '\\(([0-9]\\{3\\})\\|[0-9]\\{3\\}\\)[ -]\\?[0-9]\\{3\\}[ -]\\?[0-9]\\{4\\}'\n",
    "> \n",
    "> #Can also use regex with other tools:\n",
    "> \n",
    "> grep -EH 'Avanti|Samsung' amazon_reviews_appliances_5k_with_sentiment.txt | wc -l\n",
    "> ```"
   ]
  }
 ],
 "metadata": {
  "language_info": {
   "name": "python"
  }
 },
 "nbformat": 4,
 "nbformat_minor": 2
}
