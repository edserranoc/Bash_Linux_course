{
 "cells": [
  {
   "cell_type": "markdown",
   "metadata": {},
   "source": [
    "<hr>\n",
    "<div style=\"background-color: lightgray; padding: 20px; color: black;\">\n",
    "<div>\n",
    "<img src=\"https://upload.wikimedia.org/wikipedia/commons/thumb/9/97/Coursera-Logo_600x600.svg/1024px-Coursera-Logo_600x600.svg.png\" style=\"float: right; margin-right: 30px;\" width=\"120\"/> \n",
    "<font size=\"6.5\" color=\"#0056D2\"><b>Composing File and Data Solutions</b></font> <br>\n",
    "<font size=\"5.5\" color=\"#0056D2\"><b>Linux and Bash for Data Engineering </b></font> \n",
    "</div>\n",
    "<div style=\"text-align: left\">  <br>\n",
    "Edison David Serrano Cárdenas. <br>\n",
    "MSc en Matemáticas Aplicadas <br>\n",
    "CIMAT - Sede Guanajuato <br>\n",
    "</div>\n",
    "\n",
    "</div>\n",
    "<hr>\n",
    "\n",
    "##  <font color=\"#0056D2\" >**Objetives**</font> "
   ]
  },
  {
   "cell_type": "markdown",
   "metadata": {},
   "source": [
    "In this module, you will learn to use Linux to compose file and data management solutions. You will also learn to search the filesystem, modify files, directories and control permissions. You will then process text in Bash and apply this knowledge to create a search solution in Bash."
   ]
  },
  {
   "cell_type": "markdown",
   "metadata": {},
   "source": [
    "## <font color=\"#0056D2\" >**Introduction to Searching the Filesystem in Linux**</font> "
   ]
  },
  {
   "cell_type": "markdown",
   "metadata": {},
   "source": [
    "<font color=\"#0056D2\" >**Objetives**</font> \n",
    "\n",
    "- WWhy would you want to search the filesystem?\n",
    "- Using the locate and find commands to find files?\n",
    "- Using xargs\n"
   ]
  },
  {
   "cell_type": "markdown",
   "metadata": {},
   "source": [
    "\n",
    "\n",
    " <font color=\"#0056D2\" >**Key Points**</font> \n",
    "\n",
    "- Searching file systems is needed to locate files as data grows. Visual scanning fails.\n",
    "- Live searches with find are slow but thorough. Use locate for fast searches if indexed.\n",
    "\n",
    "- Tools like xargs allow acting on search results for automation.\n"
   ]
  },
  {
   "cell_type": "markdown",
   "metadata": {},
   "source": [
    "<font color=\"#0056D2\" >**Methods for Searching a Filesystem in Linux**</font> \n",
    "\n"
   ]
  },
  {
   "cell_type": "markdown",
   "metadata": {},
   "source": [
    "**visual**         <br>\n",
    "|_____ foo.txt  <br>\n",
    "|_____ dir      <br>\n",
    "\n",
    "**live**            <br>\n",
    "|_____ find .txt  <br>\n",
    "\n",
    "**visual**          <br>\n",
    "|_____ locate .txt  <br>\n",
    "\n"
   ]
  },
  {
   "cell_type": "markdown",
   "metadata": {},
   "source": [
    "<font color=\"#0056D2\" >**Using the Locate Command to Find Files in Linux**</font> \n",
    "\n",
    "\n"
   ]
  },
  {
   "cell_type": "markdown",
   "metadata": {},
   "source": [
    "Locate: `AWS CloudShell` \n",
    "\n",
    "\n",
    ">```console\n",
    "> [cloudshell-user@... ]$ sudo yum install mlocate\n",
    "> ...\n",
    "> [cloudshell-user@... ]$ sudo updatedb\n",
    "> [cloudshell-user@... ]$ locate .zshrc\n",
    "> /etc/skel/.zshrc\n",
    "> /home/cloudshell-user/.zshrc\n",
    "> [cloudshell-user@... ]$ locate -c .zshrc\n",
    "> 2\n",
    "> [cloudshell-user@... ]$ locate -c .ZSHRC\n",
    ">\n",
    "> [cloudshell-user@... ]$ locate -i .ZSHRC\n",
    "> /etc/skel/.zshrc\n",
    "> /home/cloudshell-user/.zshrc\n",
    "> ```\n"
   ]
  },
  {
   "cell_type": "markdown",
   "metadata": {},
   "source": [
    "<font color=\"#0056D2\" >**Using the Find Command to Find Files in Linux**</font> \n",
    "\n",
    "\n",
    "\n"
   ]
  },
  {
   "cell_type": "markdown",
   "metadata": {},
   "source": [
    "Find: `AWS CloudShell` \n",
    "\n",
    "\n",
    ">```console\n",
    "> [cloudshell-user@... ]$ find . -name .zshrc\n",
    "> ./.zshrc\n",
    "> [cloudshell-user@... ]$ sudo find / -name .zshrc\n",
    "> /home/cloudshell-user/.zshrc\n",
    "> /etc/skel/.zshrc\n",
    "> [cloudshell-user@... ]$ time sudo find / -name .zshrc\n",
    "> /home/cloudshell-user/.zshrc\n",
    "> /etc/skel/.zshrc\n",
    "> \n",
    "> real Qm1.047s\n",
    "> user Qmd. 265s\n",
    "> sys Qmd. 283s\n",
    "> [cloudshell-user@... ]$ time locate .zshrc\n",
    ">/etc/skel/.zshrc\n",
    ">/home/cloudshell-user/.zshrc\n",
    ">/home/cloudshell-user/other/.zshrc\n",
    ">\n",
    ">real Qm0.035s\n",
    ">user Qmd.031s\n",
    ">sys Qmd. 004s\n",
    ">\n",
    "> ```\n"
   ]
  },
  {
   "cell_type": "markdown",
   "metadata": {},
   "source": [
    "<font color=\"#0056D2\" >**Using xargs to Extend Search Capabilities in Linux**</font> \n",
    "\n",
    "\n",
    "\n"
   ]
  },
  {
   "cell_type": "markdown",
   "metadata": {},
   "source": [
    "xargs: `AWS CloudShell` It allows acting on search results.\n",
    "\n",
    ">```console\n",
    "> [cloudshell-user@... ]$ touch /tmp/foo{0..10}.txt\n",
    "> ls -l /tmp\n",
    "> total 0\n",
    "> -rw-rw-rw- 1 codespace codespace 0 Mar 23 23:46 foo0.txt\n",
    "> -rw-rw-rw- 1 codespace codespace 0 Mar 23 23:46 foo1.txt\n",
    "> -rw-rw-rw- 1 codespace codespace 0 Mar 23 23:46 foo10.txt\n",
    "> -rw-rw-rw- 1 codespace codespace 0 Mar 23 23:46 foo2.txt\n",
    "> -rw-rw-rw- 1 codespace codespace 0 Mar 23 23:46 foo3.txt\n",
    "> -rw-rw-rw- 1 codespace codespace 0 Mar 23 23:46 foo4.txt\n",
    "> -rw-rw-rw- 1 codespace codespace 0 Mar 23 23:46 foo5.txt\n",
    "> -rw-rw-rw- 1 codespace codespace 0 Mar 23 23:46 foo6.txt\n",
    "> -rw-rw-rw- 1 codespace codespace 0 Mar 23 23:46 foo7.txt\n",
    "> -rw-rw-rw- 1 codespace codespace 0 Mar 23 23:46 foo8.txt\n",
    "> -rw-rw-rw- 1 codespace codespace 0 Mar 23 23:46 foo9.txt\n",
    ">[cloudshell-user@... ]$ find ./txt_files/ -name foo* -type f -print\n",
    "> ./txt_files/foo6.txt\n",
    "> ./txt_files/foo4.txt\n",
    "> ./txt_files/foo2.txt\n",
    "> ./txt_files/foo10.txt\n",
    "> ./txt_files/foo5.txt\n",
    "> ./txt_files/foo7.txt\n",
    "> ./txt_files/foo3.txt\n",
    "> ./txt_files/foo0.txt\n",
    "> ./txt_files/foo1.txt\n",
    "> ./txt_files/foo8.txt\n",
    "> ./txt_files/foo9.txt\n",
    "> [cloudshell-user@... ]$ find /tmp -name foo* -type f -print | xargs /bin/rm -f\n",
    ">[cloudshell-user@... ]$ find /tmp -name foo* -type f -print\n",
    ">\n",
    "> ```\n"
   ]
  },
  {
   "cell_type": "markdown",
   "metadata": {},
   "source": [
    "<font color=\"#0056D2\" >**Using mdfind on OS 10**</font> \n",
    "\n",
    "\n",
    "\n"
   ]
  },
  {
   "cell_type": "markdown",
   "metadata": {},
   "source": [
    "mdfind: `OS 10` \n",
    "\n",
    "\n",
    ">```console\n",
    "> [cloudshell-user@... ]$ pwd\n",
    "> [cloudshell-user@... ]$ man mdfind\n",
    "> [cloudshell-user@... ]$ mdfind -name readme.txt -onlyin .\n",
    "> /Users/noahgift/src/pragai-hugo/static/resources/readme. txt\n",
    ">/Users/noahgift/src/or/pyomo_examples/README. txt\n",
    ">/Users/noahgift/src/resources/readme.txt\n",
    ">/Users/noahgift/src/opscookbook/manuscript/resources/readme.txt\n",
    "> » src mdfind -name readme.txt -onlyin . -live\n",
    ">/Users/noahgift/src/readme. txt\n",
    ">/Users/noahgift/src/pragai-hugo/static/resources/readme. txt\n",
    ">/Users/noahgift/src/or/pyomo_examples/README. txt\n",
    ">/Users/noahgift/src/resources/readme. txt\n",
    ">/Users/noahgift/src/opscookbook/manuscript/resources/readme. txt\n",
    "> src mdfind -name readme.txt -onlyin . date:12/1/2011-12/1/2021\n",
    ">/Users/noahgift/src/pragai-hugo/static/resources/reatime. txt\n",
    ">/Users/noahgift/src/or/pyomo_examples/README. txt\n",
    ">/Users/noahgift/src/resources/readme. txt\n",
    ">/Users/noahgift/src/opscookbook/manuscript/resources/readme. txt\n",
    "> src mdfind 'kMDItemFSSize >= 10000000000'\n",
    "> src mdfind 'kMDItemFSSize >= 10000000000' | xargs du -sh\n",
    "> src mdfind 'kMDItemFSSize >= 10000000000' | grep Xcode | xargs du -sh\n",
    "\n",
    "> \n",
    "> \n",
    "> \n",
    "> \n",
    "> ```\n"
   ]
  },
  {
   "cell_type": "markdown",
   "metadata": {},
   "source": [
    "\n",
    "The locate command is faster because it searches a pre-built database of files, while find performs a live search of the file system, which makes it slower but more accurate. find provides up-to-the-minute results and supports more advanced search options like filtering by file size, permissions, or modification time."
   ]
  },
  {
   "cell_type": "markdown",
   "metadata": {},
   "source": [
    "find: `OS 10`  Find logs over 10 MB, tar them up\n",
    "\n",
    ">```console\n",
    "> [cloudshell-user@... ]$ find /var/log -type f -size +10M -print | xargs tar -cvzf logs.tar.gz\n",
    ">```\n",
    "\n"
   ]
  },
  {
   "cell_type": "markdown",
   "metadata": {},
   "source": [
    "\n",
    "\n",
    "<div class=\"alert alert-block alert-info\">\n",
    "<b>Note:</b> The locate command is faster because it searches a pre-built database of files, while find performs a live search of the file system, which makes it slower but more accurate. find provides up-to-the-minute results and supports more advanced search options like filtering by file size, permissions, or modification time.  </div>"
   ]
  },
  {
   "cell_type": "markdown",
   "metadata": {},
   "source": [
    "## <font color=\"#0056D2\" >**Modifying Files, Directories, Permissions and Archiving in Linux**</font> "
   ]
  }
 ],
 "metadata": {
  "language_info": {
   "name": "python"
  }
 },
 "nbformat": 4,
 "nbformat_minor": 2
}
