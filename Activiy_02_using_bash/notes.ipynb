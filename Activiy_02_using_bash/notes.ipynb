{
 "cells": [
  {
   "cell_type": "markdown",
   "metadata": {},
   "source": [
    "<hr>\n",
    "<div style=\"background-color: lightgray; padding: 20px; color: black;\">\n",
    "<div>\n",
    "<img src=\"https://upload.wikimedia.org/wikipedia/commons/thumb/9/97/Coursera-Logo_600x600.svg/1024px-Coursera-Logo_600x600.svg.png\" style=\"float: right; margin-right: 30px;\" width=\"120\"/> \n",
    "<font size=\"6.5\" color=\"#0056D2\"><b>Using Bash </b></font> <br>\n",
    "<font size=\"5.5\" color=\"#0056D2\"><b>Linux and Bash for Data Engineering </b></font> \n",
    "</div>\n",
    "<div style=\"text-align: left\">  <br>\n",
    "Edison David Serrano Cárdenas. <br>\n",
    "MSc en Matemáticas Aplicadas <br>\n",
    "CIMAT - Sede Guanajuato <br>\n",
    "</div>\n",
    "\n",
    "</div>\n",
    "<hr>\n"
   ]
  },
  {
   "cell_type": "markdown",
   "metadata": {},
   "source": [
    "##  <font color=\"#0056D2\" >**Objetives**</font> "
   ]
  },
  {
   "cell_type": "markdown",
   "metadata": {},
   "source": [
    "> - What are shell config files?\n",
    "> - Configuring bash.rc\n",
    "> - Configuring .zshrc and third-party tool oh-my-zsh"
   ]
  },
  {
   "cell_type": "markdown",
   "metadata": {},
   "source": [
    "##  <font color=\"#0056D2\" >**Configuring your Bash Shell Environment**</font> "
   ]
  },
  {
   "cell_type": "markdown",
   "metadata": {},
   "source": [
    "A config file is automation. The alias are shortcouts."
   ]
  },
  {
   "cell_type": "markdown",
   "metadata": {},
   "source": [
    "> ```console\n",
    "> [cloudshell-user@... ]$ echo $SHELL\n",
    "> /bin/bash\n",
    "> [cloudshell-user@... ]$ echo $SHELL\n",
    "> [cloudshell-user@... ]$ ls -la ~/\n"
   ]
  },
  {
   "cell_type": "code",
   "execution_count": null,
   "metadata": {},
   "outputs": [
    {
     "name": "stdout",
     "output_type": "stream",
     "text": [
      "/bin/bash\n",
      "hola\n",
      "total 120\n",
      "drwxrwsr-x 1 codespace codespace 4096 Feb 23 07:57 .\n",
      "drwxr-xr-x 1 root      root      4096 Feb 23 06:18 ..\n",
      "-rw-rw-r-- 1 codespace codespace  220 Feb 25  2020 .bash_logout\n",
      "-rw-rw-r-- 1 codespace codespace 5885 Dec 12 22:15 .bashrc\n",
      "drwxrwsr-x 1 codespace codespace 4096 Feb 23 06:21 .cache\n",
      "drwxrwsr-x 2 codespace codespace 4096 Dec 12 22:18 .conda\n",
      "drwxrwsr-x 1 codespace codespace 4096 Feb 23 06:22 .config\n"
     ]
    }
   ],
   "source": [
    "!echo $SHELL            # \n",
    "!ls -la ~/ | head -n 8"
   ]
  },
  {
   "cell_type": "markdown",
   "metadata": {},
   "source": [
    "Create an alias *srcCode*"
   ]
  },
  {
   "cell_type": "markdown",
   "metadata": {},
   "source": [
    ">```console\n",
    "> [cloudshell-user@... ]$ vim ~/.bashrc\n",
    ">\n",
    "> alias srcCode=\"cd ~/src\"\n",
    ">\n",
    "> [cloudshell-user@... ]$ srcCode\n",
    "> [cloudshell-user@... src]$ srcCode\n",
    "> ```"
   ]
  },
  {
   "cell_type": "markdown",
   "metadata": {},
   "source": [
    "Create APIKeys"
   ]
  },
  {
   "cell_type": "code",
   "execution_count": 10,
   "metadata": {},
   "outputs": [],
   "source": [
    "!touch apiKeys.sh"
   ]
  },
  {
   "cell_type": "markdown",
   "metadata": {},
   "source": [
    ">```console\n",
    "> export pathToAPIKeys=\"/workspaces/Bash_Linux_course/Activiy_02_using_bash/apiKeys.sh\"\n",
    "> echo \"I am sourcing this path: \" $pathToAPIKeys\n",
    "> source $pathToAPIKeys\n",
    ">\n",
    "> [cloudshell-user@... ]$ echo $SECRET_ONE\n",
    "> 123\n",
    "> ```\n",
    "\n",
    "\n"
   ]
  },
  {
   "cell_type": "markdown",
   "metadata": {},
   "source": [
    "**Activar Python Virtual Enviroments**"
   ]
  },
  {
   "cell_type": "markdown",
   "metadata": {},
   "source": [
    ">```console\n",
    "> [cloudshell-user@... ]$ python -m venv ~/.venv \n",
    "> [cloudshell-user@... ]$ vim ~/.bashrc\n",
    ">\n",
    "> # Sourcing Virtual ENV\n",
    "> echo \"I am sourcing a python venv\"\n",
    "> source ~/.venv/bin/activate\n",
    ">\n",
    "> (.venv) [cloudshell-user@... ]$ echo $SECRET_ONE\n",
    "> \n",
    "> ```"
   ]
  }
 ],
 "metadata": {
  "kernelspec": {
   "display_name": "Python 3",
   "language": "python",
   "name": "python3"
  },
  "language_info": {
   "codemirror_mode": {
    "name": "ipython",
    "version": 3
   },
   "file_extension": ".py",
   "mimetype": "text/x-python",
   "name": "python",
   "nbconvert_exporter": "python",
   "pygments_lexer": "ipython3",
   "version": "3.12.1"
  }
 },
 "nbformat": 4,
 "nbformat_minor": 2
}
